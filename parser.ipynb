{
 "cells": [
  {
   "cell_type": "markdown",
   "id": "5c62cf5a",
   "metadata": {
    "toc": true
   },
   "source": [
    "<h1>Table of Contents<span class=\"tocSkip\"></span></h1>\n",
    "<div class=\"toc\"><ul class=\"toc-item\"><li><span><a href=\"#Export-to-csv\" data-toc-modified-id=\"Export-to-csv-1\">Export to csv</a></span></li><li><span><a href=\"#Tests\" data-toc-modified-id=\"Tests-2\">Tests</a></span></li></ul></div>"
   ]
  },
  {
   "cell_type": "code",
   "execution_count": 4,
   "id": "582a28ef-a277-444d-b1f9-63070185acf5",
   "metadata": {
    "ExecuteTime": {
     "end_time": "2022-11-26T13:01:36.988089Z",
     "start_time": "2022-11-26T13:01:36.886172Z"
    }
   },
   "outputs": [],
   "source": [
    "from bs4 import BeautifulSoup\n",
    "import requests\n",
    "import pandas as pd\n",
    "import time\n",
    "from tqdm.notebook import tqdm\n",
    "from pymystem3 import Mystem\n",
    "import re\n",
    "from typing import List\n",
    "from datetime import datetime\n",
    "from pathlib import Path\n",
    "\n",
    "\n",
    "import gspread\n",
    "\n"
   ]
  },
  {
   "cell_type": "code",
   "execution_count": 5,
   "id": "f97c9902-99b5-4afa-b4ca-025656d48f1d",
   "metadata": {
    "ExecuteTime": {
     "end_time": "2022-11-26T13:01:37.032728Z",
     "start_time": "2022-11-26T13:01:37.030710Z"
    }
   },
   "outputs": [],
   "source": [
    "CONFIG = {\n",
    "    'base_url': 'https://bso.ru',\n",
    "    'home_concert_class': 'abon-descr scroll-pane',\n",
    "    'tour_concert_class': 'abon-descr scroll-pane gastrol-descr',\n",
    "    # Select season\n",
    "    'start_year': 2022,\n",
    "    'end_year': 2023,\n",
    "    # Paths to dataframes\n",
    "    'sync_df':'gs_df_sync.csv',\n",
    "    'parsed_df':'parsed_df.csv',\n",
    "    \n",
    "    'stop_sentences':['купить билет онлайн'],\n",
    "    \n",
    "    # 'df_columns': [\n",
    "    #     'title',\n",
    "    #     'place',\n",
    "    #     'dt',\n",
    "    #     'program',\n",
    "    #     'n_rehersals',\n",
    "    #     'principal',\n",
    "    #     'co-principal',\n",
    "    #     'second',\n",
    "    #     'contra',\n",
    "    #     'russia_tour',\n",
    "    #     'international_tour'\n",
    "    #               ]\n",
    "    \n",
    "    # gs_sync config\n",
    "    'secret_json':'secrets/parser-369321-949b6976533c.json',\n",
    "    'table_name':'parser_experiment',\n",
    "    'sheet_name':'upload',\n",
    "    'gs_df_file':'sync.csv'\n",
    "    \n",
    "}\n"
   ]
  },
  {
   "cell_type": "code",
   "execution_count": 40,
   "id": "1417a7ae",
   "metadata": {
    "ExecuteTime": {
     "end_time": "2022-11-26T15:08:43.560311Z",
     "start_time": "2022-11-26T15:08:41.193519Z"
    }
   },
   "outputs": [
    {
     "ename": "APIError",
     "evalue": "{'code': 400, 'message': 'Invalid JSON payload received. Unknown name \"title\" at \\'data.values[0]\\': Cannot find field.\\nInvalid JSON payload received. Unknown name \"place\" at \\'data.values[0]\\': Cannot find field.\\nInvalid JSON payload received. Unknown name \"dt\" at \\'data.values[0]\\': Cannot find field.\\nInvalid JSON payload received. Unknown name \"program\" at \\'data.values[0]\\': Cannot find field.\\nInvalid JSON payload received. Unknown name \"n_rehersals\" at \\'data.values[0]\\': Cannot find field.\\nInvalid JSON payload received. Unknown name \"principal\" at \\'data.values[0]\\': Cannot find field.\\nInvalid JSON payload received. Unknown name \"co-principal\" at \\'data.values[0]\\': Cannot find field.\\nInvalid JSON payload received. Unknown name \"second\" at \\'data.values[0]\\': Cannot find field.\\nInvalid JSON payload received. Unknown name \"contra\" at \\'data.values[0]\\': Cannot find field.\\nInvalid JSON payload received. Unknown name \"russia_tour\" at \\'data.values[0]\\': Cannot find field.\\nInvalid JSON payload received. Unknown name \"international_tour\" at \\'data.values[0]\\': Cannot find field.\\nInvalid JSON payload received. Unknown name \"url\" at \\'data.values[0]\\': Cannot find field.\\nInvalid JSON payload received. Unknown name \"title\" at \\'data.values[1]\\': Cannot find field.\\nInvalid JSON payload received. Unknown name \"place\" at \\'data.values[1]\\': Cannot find field.\\nInvalid JSON payload received. Unknown name \"dt\" at \\'data.values[1]\\': Cannot find field.\\nInvalid JSON payload received. Unknown name \"program\" at \\'data.values[1]\\': Cannot find field.\\nInvalid JSON payload received. Unknown name \"n_rehersals\" at \\'data.values[1]\\': Cannot find field.\\nInvalid JSON payload received. Unknown name \"principal\" at \\'data.values[1]\\': Cannot find field.\\nInvalid JSON payload received. Unknown name \"co-principal\" at \\'data.values[1]\\': Cannot find field.\\nInvalid JSON payload received. Unknown name \"second\" at \\'data.values[1]\\': Cannot find field.\\nInvalid JSON payload received. Unknown name \"contra\" at \\'data.values[1]\\': Cannot find field.\\nInvalid JSON payload received. Unknown name \"russia_tour\" at \\'data.values[1]\\': Cannot find field.\\nInvalid JSON payload received. Unknown name \"international_tour\" at \\'data.values[1]\\': Cannot find field.\\nInvalid JSON payload received. Unknown name \"url\" at \\'data.values[1]\\': Cannot find field.\\nInvalid JSON payload received. Unknown name \"title\" at \\'data.values[2]\\': Cannot find field.\\nInvalid JSON payload received. Unknown name \"place\" at \\'data.values[2]\\': Cannot find field.\\nInvalid JSON payload received. Unknown name \"dt\" at \\'data.values[2]\\': Cannot find field.\\nInvalid JSON payload received. Unknown name \"program\" at \\'data.values[2]\\': Cannot find field.\\nInvalid JSON payload received. Unknown name \"n_rehersals\" at \\'data.values[2]\\': Cannot find field.\\nInvalid JSON payload received. Unknown name \"principal\" at \\'data.values[2]\\': Cannot find field.\\nInvalid JSON payload received. Unknown name \"co-principal\" at \\'data.values[2]\\': Cannot find field.\\nInvalid JSON payload received. Unknown name \"second\" at \\'data.values[2]\\': Cannot find field.\\nInvalid JSON payload received. Unknown name \"contra\" at \\'data.values[2]\\': Cannot find field.\\nInvalid JSON payload received. Unknown name \"russia_tour\" at \\'data.values[2]\\': Cannot find field.\\nInvalid JSON payload received. Unknown name \"international_tour\" at \\'data.values[2]\\': Cannot find field.\\nInvalid JSON payload received. Unknown name \"url\" at \\'data.values[2]\\': Cannot find field.', 'status': 'INVALID_ARGUMENT', 'details': [{'@type': 'type.googleapis.com/google.rpc.BadRequest', 'fieldViolations': [{'field': 'data.values[0]', 'description': 'Invalid JSON payload received. Unknown name \"title\" at \\'data.values[0]\\': Cannot find field.'}, {'field': 'data.values[0]', 'description': 'Invalid JSON payload received. Unknown name \"place\" at \\'data.values[0]\\': Cannot find field.'}, {'field': 'data.values[0]', 'description': 'Invalid JSON payload received. Unknown name \"dt\" at \\'data.values[0]\\': Cannot find field.'}, {'field': 'data.values[0]', 'description': 'Invalid JSON payload received. Unknown name \"program\" at \\'data.values[0]\\': Cannot find field.'}, {'field': 'data.values[0]', 'description': 'Invalid JSON payload received. Unknown name \"n_rehersals\" at \\'data.values[0]\\': Cannot find field.'}, {'field': 'data.values[0]', 'description': 'Invalid JSON payload received. Unknown name \"principal\" at \\'data.values[0]\\': Cannot find field.'}, {'field': 'data.values[0]', 'description': 'Invalid JSON payload received. Unknown name \"co-principal\" at \\'data.values[0]\\': Cannot find field.'}, {'field': 'data.values[0]', 'description': 'Invalid JSON payload received. Unknown name \"second\" at \\'data.values[0]\\': Cannot find field.'}, {'field': 'data.values[0]', 'description': 'Invalid JSON payload received. Unknown name \"contra\" at \\'data.values[0]\\': Cannot find field.'}, {'field': 'data.values[0]', 'description': 'Invalid JSON payload received. Unknown name \"russia_tour\" at \\'data.values[0]\\': Cannot find field.'}, {'field': 'data.values[0]', 'description': 'Invalid JSON payload received. Unknown name \"international_tour\" at \\'data.values[0]\\': Cannot find field.'}, {'field': 'data.values[0]', 'description': 'Invalid JSON payload received. Unknown name \"url\" at \\'data.values[0]\\': Cannot find field.'}, {'field': 'data.values[1]', 'description': 'Invalid JSON payload received. Unknown name \"title\" at \\'data.values[1]\\': Cannot find field.'}, {'field': 'data.values[1]', 'description': 'Invalid JSON payload received. Unknown name \"place\" at \\'data.values[1]\\': Cannot find field.'}, {'field': 'data.values[1]', 'description': 'Invalid JSON payload received. Unknown name \"dt\" at \\'data.values[1]\\': Cannot find field.'}, {'field': 'data.values[1]', 'description': 'Invalid JSON payload received. Unknown name \"program\" at \\'data.values[1]\\': Cannot find field.'}, {'field': 'data.values[1]', 'description': 'Invalid JSON payload received. Unknown name \"n_rehersals\" at \\'data.values[1]\\': Cannot find field.'}, {'field': 'data.values[1]', 'description': 'Invalid JSON payload received. Unknown name \"principal\" at \\'data.values[1]\\': Cannot find field.'}, {'field': 'data.values[1]', 'description': 'Invalid JSON payload received. Unknown name \"co-principal\" at \\'data.values[1]\\': Cannot find field.'}, {'field': 'data.values[1]', 'description': 'Invalid JSON payload received. Unknown name \"second\" at \\'data.values[1]\\': Cannot find field.'}, {'field': 'data.values[1]', 'description': 'Invalid JSON payload received. Unknown name \"contra\" at \\'data.values[1]\\': Cannot find field.'}, {'field': 'data.values[1]', 'description': 'Invalid JSON payload received. Unknown name \"russia_tour\" at \\'data.values[1]\\': Cannot find field.'}, {'field': 'data.values[1]', 'description': 'Invalid JSON payload received. Unknown name \"international_tour\" at \\'data.values[1]\\': Cannot find field.'}, {'field': 'data.values[1]', 'description': 'Invalid JSON payload received. Unknown name \"url\" at \\'data.values[1]\\': Cannot find field.'}, {'field': 'data.values[2]', 'description': 'Invalid JSON payload received. Unknown name \"title\" at \\'data.values[2]\\': Cannot find field.'}, {'field': 'data.values[2]', 'description': 'Invalid JSON payload received. Unknown name \"place\" at \\'data.values[2]\\': Cannot find field.'}, {'field': 'data.values[2]', 'description': 'Invalid JSON payload received. Unknown name \"dt\" at \\'data.values[2]\\': Cannot find field.'}, {'field': 'data.values[2]', 'description': 'Invalid JSON payload received. Unknown name \"program\" at \\'data.values[2]\\': Cannot find field.'}, {'field': 'data.values[2]', 'description': 'Invalid JSON payload received. Unknown name \"n_rehersals\" at \\'data.values[2]\\': Cannot find field.'}, {'field': 'data.values[2]', 'description': 'Invalid JSON payload received. Unknown name \"principal\" at \\'data.values[2]\\': Cannot find field.'}, {'field': 'data.values[2]', 'description': 'Invalid JSON payload received. Unknown name \"co-principal\" at \\'data.values[2]\\': Cannot find field.'}, {'field': 'data.values[2]', 'description': 'Invalid JSON payload received. Unknown name \"second\" at \\'data.values[2]\\': Cannot find field.'}, {'field': 'data.values[2]', 'description': 'Invalid JSON payload received. Unknown name \"contra\" at \\'data.values[2]\\': Cannot find field.'}, {'field': 'data.values[2]', 'description': 'Invalid JSON payload received. Unknown name \"russia_tour\" at \\'data.values[2]\\': Cannot find field.'}, {'field': 'data.values[2]', 'description': 'Invalid JSON payload received. Unknown name \"international_tour\" at \\'data.values[2]\\': Cannot find field.'}, {'field': 'data.values[2]', 'description': 'Invalid JSON payload received. Unknown name \"url\" at \\'data.values[2]\\': Cannot find field.'}]}]}",
     "output_type": "error",
     "traceback": [
      "\u001b[0;31m---------------------------------------------------------------------------\u001b[0m",
      "\u001b[0;31mAPIError\u001b[0m                                  Traceback (most recent call last)",
      "Cell \u001b[0;32mIn [40], line 4\u001b[0m\n\u001b[1;32m      2\u001b[0m table \u001b[38;5;241m=\u001b[39m gc\u001b[38;5;241m.\u001b[39mopen(CONFIG[\u001b[38;5;124m'\u001b[39m\u001b[38;5;124mtable_name\u001b[39m\u001b[38;5;124m'\u001b[39m])\n\u001b[1;32m      3\u001b[0m worksheet \u001b[38;5;241m=\u001b[39m table\u001b[38;5;241m.\u001b[39mworksheet(CONFIG[\u001b[38;5;124m'\u001b[39m\u001b[38;5;124msheet_name\u001b[39m\u001b[38;5;124m'\u001b[39m])\n\u001b[0;32m----> 4\u001b[0m \u001b[43mworksheet\u001b[49m\u001b[38;5;241;43m.\u001b[39;49m\u001b[43mappend_rows\u001b[49m\u001b[43m(\u001b[49m\u001b[43mparsed_df\u001b[49m\u001b[43m)\u001b[49m\n",
      "File \u001b[0;32m/opt/miniconda3/envs/torch/lib/python3.8/site-packages/gspread/worksheet.py:1626\u001b[0m, in \u001b[0;36mWorksheet.append_rows\u001b[0;34m(self, values, value_input_option, insert_data_option, table_range, include_values_in_response)\u001b[0m\n\u001b[1;32m   1618\u001b[0m params \u001b[38;5;241m=\u001b[39m {\n\u001b[1;32m   1619\u001b[0m     \u001b[38;5;124m\"\u001b[39m\u001b[38;5;124mvalueInputOption\u001b[39m\u001b[38;5;124m\"\u001b[39m: value_input_option,\n\u001b[1;32m   1620\u001b[0m     \u001b[38;5;124m\"\u001b[39m\u001b[38;5;124minsertDataOption\u001b[39m\u001b[38;5;124m\"\u001b[39m: insert_data_option,\n\u001b[1;32m   1621\u001b[0m     \u001b[38;5;124m\"\u001b[39m\u001b[38;5;124mincludeValuesInResponse\u001b[39m\u001b[38;5;124m\"\u001b[39m: include_values_in_response,\n\u001b[1;32m   1622\u001b[0m }\n\u001b[1;32m   1624\u001b[0m body \u001b[38;5;241m=\u001b[39m {\u001b[38;5;124m\"\u001b[39m\u001b[38;5;124mvalues\u001b[39m\u001b[38;5;124m\"\u001b[39m: values}\n\u001b[0;32m-> 1626\u001b[0m \u001b[38;5;28;01mreturn\u001b[39;00m \u001b[38;5;28;43mself\u001b[39;49m\u001b[38;5;241;43m.\u001b[39;49m\u001b[43mspreadsheet\u001b[49m\u001b[38;5;241;43m.\u001b[39;49m\u001b[43mvalues_append\u001b[49m\u001b[43m(\u001b[49m\u001b[43mrange_label\u001b[49m\u001b[43m,\u001b[49m\u001b[43m \u001b[49m\u001b[43mparams\u001b[49m\u001b[43m,\u001b[49m\u001b[43m \u001b[49m\u001b[43mbody\u001b[49m\u001b[43m)\u001b[49m\n",
      "File \u001b[0;32m/opt/miniconda3/envs/torch/lib/python3.8/site-packages/gspread/spreadsheet.py:150\u001b[0m, in \u001b[0;36mSpreadsheet.values_append\u001b[0;34m(self, range, params, body)\u001b[0m\n\u001b[1;32m    138\u001b[0m \u001b[38;5;124;03m\"\"\"Lower-level method that directly calls `spreadsheets/<ID>/values:append <https://developers.google.com/sheets/api/reference/rest/v4/spreadsheets.values/append>`_.\u001b[39;00m\n\u001b[1;32m    139\u001b[0m \n\u001b[1;32m    140\u001b[0m \u001b[38;5;124;03m:param str range: The `A1 notation <https://developers.google.com/sheets/api/guides/concepts#a1_notation>`_\u001b[39;00m\n\u001b[0;32m   (...)\u001b[0m\n\u001b[1;32m    147\u001b[0m \u001b[38;5;124;03m.. versionadded:: 3.0\u001b[39;00m\n\u001b[1;32m    148\u001b[0m \u001b[38;5;124;03m\"\"\"\u001b[39;00m\n\u001b[1;32m    149\u001b[0m url \u001b[38;5;241m=\u001b[39m SPREADSHEET_VALUES_APPEND_URL \u001b[38;5;241m%\u001b[39m (\u001b[38;5;28mself\u001b[39m\u001b[38;5;241m.\u001b[39mid, quote(\u001b[38;5;28mrange\u001b[39m))\n\u001b[0;32m--> 150\u001b[0m r \u001b[38;5;241m=\u001b[39m \u001b[38;5;28;43mself\u001b[39;49m\u001b[38;5;241;43m.\u001b[39;49m\u001b[43mclient\u001b[49m\u001b[38;5;241;43m.\u001b[39;49m\u001b[43mrequest\u001b[49m\u001b[43m(\u001b[49m\u001b[38;5;124;43m\"\u001b[39;49m\u001b[38;5;124;43mpost\u001b[39;49m\u001b[38;5;124;43m\"\u001b[39;49m\u001b[43m,\u001b[49m\u001b[43m \u001b[49m\u001b[43murl\u001b[49m\u001b[43m,\u001b[49m\u001b[43m \u001b[49m\u001b[43mparams\u001b[49m\u001b[38;5;241;43m=\u001b[39;49m\u001b[43mparams\u001b[49m\u001b[43m,\u001b[49m\u001b[43m \u001b[49m\u001b[43mjson\u001b[49m\u001b[38;5;241;43m=\u001b[39;49m\u001b[43mbody\u001b[49m\u001b[43m)\u001b[49m\n\u001b[1;32m    151\u001b[0m \u001b[38;5;28;01mreturn\u001b[39;00m r\u001b[38;5;241m.\u001b[39mjson()\n",
      "File \u001b[0;32m/opt/miniconda3/envs/torch/lib/python3.8/site-packages/gspread/client.py:92\u001b[0m, in \u001b[0;36mClient.request\u001b[0;34m(self, method, endpoint, params, data, json, files, headers)\u001b[0m\n\u001b[1;32m     90\u001b[0m     \u001b[38;5;28;01mreturn\u001b[39;00m response\n\u001b[1;32m     91\u001b[0m \u001b[38;5;28;01melse\u001b[39;00m:\n\u001b[0;32m---> 92\u001b[0m     \u001b[38;5;28;01mraise\u001b[39;00m APIError(response)\n",
      "\u001b[0;31mAPIError\u001b[0m: {'code': 400, 'message': 'Invalid JSON payload received. Unknown name \"title\" at \\'data.values[0]\\': Cannot find field.\\nInvalid JSON payload received. Unknown name \"place\" at \\'data.values[0]\\': Cannot find field.\\nInvalid JSON payload received. Unknown name \"dt\" at \\'data.values[0]\\': Cannot find field.\\nInvalid JSON payload received. Unknown name \"program\" at \\'data.values[0]\\': Cannot find field.\\nInvalid JSON payload received. Unknown name \"n_rehersals\" at \\'data.values[0]\\': Cannot find field.\\nInvalid JSON payload received. Unknown name \"principal\" at \\'data.values[0]\\': Cannot find field.\\nInvalid JSON payload received. Unknown name \"co-principal\" at \\'data.values[0]\\': Cannot find field.\\nInvalid JSON payload received. Unknown name \"second\" at \\'data.values[0]\\': Cannot find field.\\nInvalid JSON payload received. Unknown name \"contra\" at \\'data.values[0]\\': Cannot find field.\\nInvalid JSON payload received. Unknown name \"russia_tour\" at \\'data.values[0]\\': Cannot find field.\\nInvalid JSON payload received. Unknown name \"international_tour\" at \\'data.values[0]\\': Cannot find field.\\nInvalid JSON payload received. Unknown name \"url\" at \\'data.values[0]\\': Cannot find field.\\nInvalid JSON payload received. Unknown name \"title\" at \\'data.values[1]\\': Cannot find field.\\nInvalid JSON payload received. Unknown name \"place\" at \\'data.values[1]\\': Cannot find field.\\nInvalid JSON payload received. Unknown name \"dt\" at \\'data.values[1]\\': Cannot find field.\\nInvalid JSON payload received. Unknown name \"program\" at \\'data.values[1]\\': Cannot find field.\\nInvalid JSON payload received. Unknown name \"n_rehersals\" at \\'data.values[1]\\': Cannot find field.\\nInvalid JSON payload received. Unknown name \"principal\" at \\'data.values[1]\\': Cannot find field.\\nInvalid JSON payload received. Unknown name \"co-principal\" at \\'data.values[1]\\': Cannot find field.\\nInvalid JSON payload received. Unknown name \"second\" at \\'data.values[1]\\': Cannot find field.\\nInvalid JSON payload received. Unknown name \"contra\" at \\'data.values[1]\\': Cannot find field.\\nInvalid JSON payload received. Unknown name \"russia_tour\" at \\'data.values[1]\\': Cannot find field.\\nInvalid JSON payload received. Unknown name \"international_tour\" at \\'data.values[1]\\': Cannot find field.\\nInvalid JSON payload received. Unknown name \"url\" at \\'data.values[1]\\': Cannot find field.\\nInvalid JSON payload received. Unknown name \"title\" at \\'data.values[2]\\': Cannot find field.\\nInvalid JSON payload received. Unknown name \"place\" at \\'data.values[2]\\': Cannot find field.\\nInvalid JSON payload received. Unknown name \"dt\" at \\'data.values[2]\\': Cannot find field.\\nInvalid JSON payload received. Unknown name \"program\" at \\'data.values[2]\\': Cannot find field.\\nInvalid JSON payload received. Unknown name \"n_rehersals\" at \\'data.values[2]\\': Cannot find field.\\nInvalid JSON payload received. Unknown name \"principal\" at \\'data.values[2]\\': Cannot find field.\\nInvalid JSON payload received. Unknown name \"co-principal\" at \\'data.values[2]\\': Cannot find field.\\nInvalid JSON payload received. Unknown name \"second\" at \\'data.values[2]\\': Cannot find field.\\nInvalid JSON payload received. Unknown name \"contra\" at \\'data.values[2]\\': Cannot find field.\\nInvalid JSON payload received. Unknown name \"russia_tour\" at \\'data.values[2]\\': Cannot find field.\\nInvalid JSON payload received. Unknown name \"international_tour\" at \\'data.values[2]\\': Cannot find field.\\nInvalid JSON payload received. Unknown name \"url\" at \\'data.values[2]\\': Cannot find field.', 'status': 'INVALID_ARGUMENT', 'details': [{'@type': 'type.googleapis.com/google.rpc.BadRequest', 'fieldViolations': [{'field': 'data.values[0]', 'description': 'Invalid JSON payload received. Unknown name \"title\" at \\'data.values[0]\\': Cannot find field.'}, {'field': 'data.values[0]', 'description': 'Invalid JSON payload received. Unknown name \"place\" at \\'data.values[0]\\': Cannot find field.'}, {'field': 'data.values[0]', 'description': 'Invalid JSON payload received. Unknown name \"dt\" at \\'data.values[0]\\': Cannot find field.'}, {'field': 'data.values[0]', 'description': 'Invalid JSON payload received. Unknown name \"program\" at \\'data.values[0]\\': Cannot find field.'}, {'field': 'data.values[0]', 'description': 'Invalid JSON payload received. Unknown name \"n_rehersals\" at \\'data.values[0]\\': Cannot find field.'}, {'field': 'data.values[0]', 'description': 'Invalid JSON payload received. Unknown name \"principal\" at \\'data.values[0]\\': Cannot find field.'}, {'field': 'data.values[0]', 'description': 'Invalid JSON payload received. Unknown name \"co-principal\" at \\'data.values[0]\\': Cannot find field.'}, {'field': 'data.values[0]', 'description': 'Invalid JSON payload received. Unknown name \"second\" at \\'data.values[0]\\': Cannot find field.'}, {'field': 'data.values[0]', 'description': 'Invalid JSON payload received. Unknown name \"contra\" at \\'data.values[0]\\': Cannot find field.'}, {'field': 'data.values[0]', 'description': 'Invalid JSON payload received. Unknown name \"russia_tour\" at \\'data.values[0]\\': Cannot find field.'}, {'field': 'data.values[0]', 'description': 'Invalid JSON payload received. Unknown name \"international_tour\" at \\'data.values[0]\\': Cannot find field.'}, {'field': 'data.values[0]', 'description': 'Invalid JSON payload received. Unknown name \"url\" at \\'data.values[0]\\': Cannot find field.'}, {'field': 'data.values[1]', 'description': 'Invalid JSON payload received. Unknown name \"title\" at \\'data.values[1]\\': Cannot find field.'}, {'field': 'data.values[1]', 'description': 'Invalid JSON payload received. Unknown name \"place\" at \\'data.values[1]\\': Cannot find field.'}, {'field': 'data.values[1]', 'description': 'Invalid JSON payload received. Unknown name \"dt\" at \\'data.values[1]\\': Cannot find field.'}, {'field': 'data.values[1]', 'description': 'Invalid JSON payload received. Unknown name \"program\" at \\'data.values[1]\\': Cannot find field.'}, {'field': 'data.values[1]', 'description': 'Invalid JSON payload received. Unknown name \"n_rehersals\" at \\'data.values[1]\\': Cannot find field.'}, {'field': 'data.values[1]', 'description': 'Invalid JSON payload received. Unknown name \"principal\" at \\'data.values[1]\\': Cannot find field.'}, {'field': 'data.values[1]', 'description': 'Invalid JSON payload received. Unknown name \"co-principal\" at \\'data.values[1]\\': Cannot find field.'}, {'field': 'data.values[1]', 'description': 'Invalid JSON payload received. Unknown name \"second\" at \\'data.values[1]\\': Cannot find field.'}, {'field': 'data.values[1]', 'description': 'Invalid JSON payload received. Unknown name \"contra\" at \\'data.values[1]\\': Cannot find field.'}, {'field': 'data.values[1]', 'description': 'Invalid JSON payload received. Unknown name \"russia_tour\" at \\'data.values[1]\\': Cannot find field.'}, {'field': 'data.values[1]', 'description': 'Invalid JSON payload received. Unknown name \"international_tour\" at \\'data.values[1]\\': Cannot find field.'}, {'field': 'data.values[1]', 'description': 'Invalid JSON payload received. Unknown name \"url\" at \\'data.values[1]\\': Cannot find field.'}, {'field': 'data.values[2]', 'description': 'Invalid JSON payload received. Unknown name \"title\" at \\'data.values[2]\\': Cannot find field.'}, {'field': 'data.values[2]', 'description': 'Invalid JSON payload received. Unknown name \"place\" at \\'data.values[2]\\': Cannot find field.'}, {'field': 'data.values[2]', 'description': 'Invalid JSON payload received. Unknown name \"dt\" at \\'data.values[2]\\': Cannot find field.'}, {'field': 'data.values[2]', 'description': 'Invalid JSON payload received. Unknown name \"program\" at \\'data.values[2]\\': Cannot find field.'}, {'field': 'data.values[2]', 'description': 'Invalid JSON payload received. Unknown name \"n_rehersals\" at \\'data.values[2]\\': Cannot find field.'}, {'field': 'data.values[2]', 'description': 'Invalid JSON payload received. Unknown name \"principal\" at \\'data.values[2]\\': Cannot find field.'}, {'field': 'data.values[2]', 'description': 'Invalid JSON payload received. Unknown name \"co-principal\" at \\'data.values[2]\\': Cannot find field.'}, {'field': 'data.values[2]', 'description': 'Invalid JSON payload received. Unknown name \"second\" at \\'data.values[2]\\': Cannot find field.'}, {'field': 'data.values[2]', 'description': 'Invalid JSON payload received. Unknown name \"contra\" at \\'data.values[2]\\': Cannot find field.'}, {'field': 'data.values[2]', 'description': 'Invalid JSON payload received. Unknown name \"russia_tour\" at \\'data.values[2]\\': Cannot find field.'}, {'field': 'data.values[2]', 'description': 'Invalid JSON payload received. Unknown name \"international_tour\" at \\'data.values[2]\\': Cannot find field.'}, {'field': 'data.values[2]', 'description': 'Invalid JSON payload received. Unknown name \"url\" at \\'data.values[2]\\': Cannot find field.'}]}]}"
     ]
    }
   ],
   "source": [
    "gc = gspread.service_account(CONFIG['secret_json'])\n",
    "table = gc.open(CONFIG['table_name'])\n",
    "worksheet = table.worksheet(CONFIG['sheet_name'])\n",
    "worksheet.append_rows(parsed_df)"
   ]
  },
  {
   "cell_type": "code",
   "execution_count": 38,
   "id": "e7b6d935",
   "metadata": {
    "ExecuteTime": {
     "end_time": "2022-11-26T15:08:13.641647Z",
     "start_time": "2022-11-26T15:08:13.622991Z"
    }
   },
   "outputs": [
    {
     "data": {
      "text/plain": [
       "[{'title': 'К 90-летию Владимира Федосеева',\n",
       "  'place': 'Концертный зал имени П. И. Чайковского ',\n",
       "  'dt': '2022-08-31 18:00:00',\n",
       "  'program': ['П. Чайковский | Вальс цветов из балета «Щелкунчик»',\n",
       "   'П. Чайковский | Ариозо Ленского из оперы «Евгений Онегин» (А. Татаринцев)',\n",
       "   'Н. Римский-Корсаков | Ария Левко из оперы «Майская ночь» (А. Татаринцев)',\n",
       "   'Н. Римский-Корсаков | Ария Грязного из оперы «Царская невеста» (В. Ладюк)',\n",
       "   'А. Бородин | Каватина Владимира Игоревича из оперы «Князь Игорь» (А. Татаринцев)',\n",
       "   'П. Чайковский | Панорама из балета «Спящая красавица»',\n",
       "   'П. Чайковский | Ария князя Елецкого из оперы «Пиковая дама» (В. Ладюк)',\n",
       "   'П. Чайковский | Ариозо Роберта из оперы «Иоланта» (В. Ладюк)',\n",
       "   'Г. Свиридов | «Время, вперед!» (Румба) из музыки к одноименному кинофильму',\n",
       "   'Г. Свиридов | Романс из музыкальных иллюстраций к повести А. Пушкина «Метель»',\n",
       "   'А. Пахмутова | «Мелодия» (В. Ладюк)',\n",
       "   'А. Пахмутова | «Нам не жить друг без друга» (В. Ладюк)',\n",
       "   'А. Пахмутова | «Беловежская пуща» (А. Татаринцев)',\n",
       "   'А. Пахмутова | «Старый клен» (А. Татаринцев)',\n",
       "   'А. Пахмутова | «Как молоды мы были» (В. Ладюк)',\n",
       "   'А. Пахмутова | «Русский вальс» (В. Ладюк)',\n",
       "   'А. Пахмутова | «Надежда» (А. Татаринцев, В. Ладюк)',\n",
       "   'А. Пахмутова | «Команда молодости нашей» (А. Татаринцев, В. Ладюк)',\n",
       "   'Солисты',\n",
       "   'Алексей Татаринцев | тенор',\n",
       "   'Василий Ладюк | баритон',\n",
       "   'Дирижер | Владимир Федосеев'],\n",
       "  'n_rehersals': 0,\n",
       "  'principal': False,\n",
       "  'co-principal': False,\n",
       "  'second': False,\n",
       "  'contra': False,\n",
       "  'russia_tour': False,\n",
       "  'international_tour': False,\n",
       "  'url': 'https://bso.ru/concerts/2022/08/31/'},\n",
       " {'title': 'Концерт в Сочи',\n",
       "  'place': 'Россия | Сочи | Большой зал Парка науки и искусства «Сириус» ',\n",
       "  'dt': '2022-09-03 19:30:00',\n",
       "  'program': ['Г. Свиридов | «Метель», музыкальные иллюстрации к повести А. Пушкина',\n",
       "   'Н. Римский-Корсаков | «Шехеразада», симфоническая сюита',\n",
       "   'Дирижер | Владимир Федосеев'],\n",
       "  'n_rehersals': 0,\n",
       "  'principal': False,\n",
       "  'co-principal': False,\n",
       "  'second': False,\n",
       "  'contra': False,\n",
       "  'russia_tour': True,\n",
       "  'international_tour': False,\n",
       "  'url': 'https://bso.ru/tours/tour_12288/12283/'},\n",
       " {'title': 'Концерт в Сочи',\n",
       "  'place': 'Россия | Сочи | Большой зал Парка науки и искусства «Сириус» ',\n",
       "  'dt': '2022-09-04 19:30:00',\n",
       "  'program': ['С. Прокофьев | Сюита из балета «Ромео и Джульетта»',\n",
       "   'П. Чайковский | Сюита из балета «Спящая красавица»',\n",
       "   'Дирижер | Владимир Федосеев'],\n",
       "  'n_rehersals': 0,\n",
       "  'principal': False,\n",
       "  'co-principal': False,\n",
       "  'second': False,\n",
       "  'contra': False,\n",
       "  'russia_tour': True,\n",
       "  'international_tour': False,\n",
       "  'url': 'https://bso.ru/tours/tour_12288/12285/'}]"
      ]
     },
     "execution_count": 38,
     "metadata": {},
     "output_type": "execute_result"
    }
   ],
   "source": [
    "parsed_df"
   ]
  },
  {
   "cell_type": "code",
   "execution_count": 32,
   "id": "02c17558-fe92-4980-b6b2-8d210b1c72d4",
   "metadata": {
    "ExecuteTime": {
     "end_time": "2022-11-26T13:37:44.099592Z",
     "start_time": "2022-11-26T13:37:44.084463Z"
    }
   },
   "outputs": [],
   "source": [
    "def gs_sync(secret_json=CONFIG['secret_json'],\n",
    "                          table_name=CONFIG['table_name'],\n",
    "                          sheet_name=CONFIG['sheet_name'],\n",
    "                         sync_file=CONFIG['gs_df_file'],\n",
    "                           mode='get',\n",
    "                        row_to_append=None):\n",
    "    assert mode in ['get', 'upload'], \"Wrong mode! Avaliable modes: 'get' or 'upload'\"\n",
    "    gc = gspread.service_account(filename=secret_json)\n",
    "    table = gc.open(table_name)\n",
    "    worksheet = table.worksheet(sheet_name)\n",
    "    if mode == 'get':\n",
    "        sheet_values = worksheet.get_all_values()\n",
    "        sync_df = pd.DataFrame(sheet_values[1:], columns = sheet_values[0])\n",
    "        sync_df['n_rehersals'] = sync_df['n_rehersals'].astype(int)\n",
    "        boolean_columns = ['principal', 'co-principal', 'second', 'contra', 'russia_tour', 'international_tour']\n",
    "        sync_df[boolean_columns] = sync_df[boolean_columns] == 'TRUE'\n",
    "\n",
    "        sync_df.to_csv(sync_file, index=False)\n",
    "    else:\n",
    "        worksheet.append_rows()\n",
    "    return sync_df\n",
    "    "
   ]
  },
  {
   "cell_type": "code",
   "execution_count": 33,
   "id": "7a6881f2",
   "metadata": {
    "ExecuteTime": {
     "end_time": "2022-11-26T13:37:44.345200Z",
     "start_time": "2022-11-26T13:37:44.321601Z"
    }
   },
   "outputs": [
    {
     "ename": "AssertionError",
     "evalue": "Wrong mode! Avaliable modes: 'get' or 'upload'",
     "output_type": "error",
     "traceback": [
      "\u001b[0;31m---------------------------------------------------------------------------\u001b[0m",
      "\u001b[0;31mAssertionError\u001b[0m                            Traceback (most recent call last)",
      "Cell \u001b[0;32mIn [33], line 1\u001b[0m\n\u001b[0;32m----> 1\u001b[0m \u001b[43mgs_sync\u001b[49m\u001b[43m(\u001b[49m\u001b[43mmode\u001b[49m\u001b[38;5;241;43m=\u001b[39;49m\u001b[38;5;124;43m'\u001b[39;49m\u001b[38;5;124;43mas\u001b[39;49m\u001b[38;5;124;43m'\u001b[39;49m\u001b[43m)\u001b[49m\n",
      "Cell \u001b[0;32mIn [32], line 6\u001b[0m, in \u001b[0;36mgs_sync\u001b[0;34m(secret_json, table_name, sheet_name, sync_file, mode)\u001b[0m\n\u001b[1;32m      1\u001b[0m \u001b[38;5;28;01mdef\u001b[39;00m \u001b[38;5;21mgs_sync\u001b[39m(secret_json\u001b[38;5;241m=\u001b[39mCONFIG[\u001b[38;5;124m'\u001b[39m\u001b[38;5;124msecret_json\u001b[39m\u001b[38;5;124m'\u001b[39m],\n\u001b[1;32m      2\u001b[0m                           table_name\u001b[38;5;241m=\u001b[39mCONFIG[\u001b[38;5;124m'\u001b[39m\u001b[38;5;124mtable_name\u001b[39m\u001b[38;5;124m'\u001b[39m],\n\u001b[1;32m      3\u001b[0m                           sheet_name\u001b[38;5;241m=\u001b[39mCONFIG[\u001b[38;5;124m'\u001b[39m\u001b[38;5;124msheet_name\u001b[39m\u001b[38;5;124m'\u001b[39m],\n\u001b[1;32m      4\u001b[0m                          sync_file\u001b[38;5;241m=\u001b[39mCONFIG[\u001b[38;5;124m'\u001b[39m\u001b[38;5;124mgs_df_file\u001b[39m\u001b[38;5;124m'\u001b[39m],\n\u001b[1;32m      5\u001b[0m                            mode\u001b[38;5;241m=\u001b[39m\u001b[38;5;124m'\u001b[39m\u001b[38;5;124mget\u001b[39m\u001b[38;5;124m'\u001b[39m):\n\u001b[0;32m----> 6\u001b[0m     \u001b[38;5;28;01massert\u001b[39;00m mode \u001b[38;5;129;01min\u001b[39;00m [\u001b[38;5;124m'\u001b[39m\u001b[38;5;124mget\u001b[39m\u001b[38;5;124m'\u001b[39m, \u001b[38;5;124m'\u001b[39m\u001b[38;5;124mupload\u001b[39m\u001b[38;5;124m'\u001b[39m], \u001b[38;5;124m\"\u001b[39m\u001b[38;5;124mWrong mode! Avaliable modes: \u001b[39m\u001b[38;5;124m'\u001b[39m\u001b[38;5;124mget\u001b[39m\u001b[38;5;124m'\u001b[39m\u001b[38;5;124m or \u001b[39m\u001b[38;5;124m'\u001b[39m\u001b[38;5;124mupload\u001b[39m\u001b[38;5;124m'\u001b[39m\u001b[38;5;124m\"\u001b[39m\n\u001b[1;32m      7\u001b[0m     gc \u001b[38;5;241m=\u001b[39m gspread\u001b[38;5;241m.\u001b[39mservice_account(filename\u001b[38;5;241m=\u001b[39msecret_json)\n\u001b[1;32m      8\u001b[0m     table \u001b[38;5;241m=\u001b[39m gc\u001b[38;5;241m.\u001b[39mopen(table_name)\n",
      "\u001b[0;31mAssertionError\u001b[0m: Wrong mode! Avaliable modes: 'get' or 'upload'"
     ]
    }
   ],
   "source": []
  },
  {
   "cell_type": "code",
   "execution_count": 11,
   "id": "3bfa831e",
   "metadata": {
    "ExecuteTime": {
     "end_time": "2022-11-26T13:07:33.834450Z",
     "start_time": "2022-11-26T13:07:33.829584Z"
    }
   },
   "outputs": [],
   "source": [
    "def upload_to_gs(to_upload_df,\n",
    "                secret_json=CONFIG['secret_json'],\n",
    "                table_name=CONFIG['table_name'],\n",
    "                sheet_name=CONFIG['sheet_name']):\n",
    "    gc = gspread.service_account(filename=secret_json)\n",
    "    table = gc.open(table_name)\n",
    "    worksheet = table.worksheet(sheet_name)\n",
    "    worksheet.update([to_upload_df.columns.values.tolist()] + to_upload_df.values.tolist())\n"
   ]
  },
  {
   "cell_type": "code",
   "execution_count": 12,
   "id": "db5c4770-39b4-4d3a-96cb-677abfe54cdc",
   "metadata": {
    "ExecuteTime": {
     "end_time": "2022-11-26T13:07:34.659261Z",
     "start_time": "2022-11-26T13:07:34.644426Z"
    }
   },
   "outputs": [],
   "source": [
    "def get_concert_urls(homepage:str, start_year=CONFIG['start_year'], end_year=CONFIG['end_year']):\n",
    "    \"\"\"\n",
    "    homepage: homepage url in format https://site.com\n",
    "    start_year: year of start season\n",
    "    end_year: year of end season\n",
    "    \"\"\"\n",
    "    page = requests.get(homepage)\n",
    "    soup = BeautifulSoup(page.text, 'html.parser')\n",
    "    \n",
    "    raw_parsed_urls = []\n",
    "    for e in tqdm(soup.find_all('a'), desc='getting raw urls'):\n",
    "        raw_parsed_urls.append(str(e.get('href')))\n",
    "        \n",
    "    idx = []\n",
    "    for u in tqdm(raw_parsed_urls, desc='filter urls by year'):\n",
    "        try:\n",
    "            year, month = int(u.split('/')[-4]), int(u.split('/')[-3])\n",
    "        except:\n",
    "            year, month = 0, 0\n",
    "        if (year == start_year and month > 7) or (year == end_year and month < 7):\n",
    "            idx.append(raw_parsed_urls.index(u))\n",
    "                                                    \n",
    "    first_idx, last_idx = idx[0], idx[-1]\n",
    "    concert_urls = [homepage + c for c in tqdm(raw_parsed_urls[first_idx:last_idx], desc='makeing concert urls list')]\n",
    "    \n",
    "    return concert_urls"
   ]
  },
  {
   "cell_type": "code",
   "execution_count": 13,
   "id": "9c485c45-6640-4bce-a2e7-48d3545537e5",
   "metadata": {
    "ExecuteTime": {
     "end_time": "2022-11-26T13:07:35.638392Z",
     "start_time": "2022-11-26T13:07:35.626285Z"
    }
   },
   "outputs": [],
   "source": [
    "def convert_date(date:List[str], ):\n",
    "    \"\"\"\n",
    "    !! Important !! \n",
    "    \n",
    "    order of datetime:\n",
    "    [day, month, year, hour]\n",
    "    \"\"\"\n",
    "    # Month\n",
    "    month_list = ['январь',\n",
    "                'февраль',\n",
    "                'март',\n",
    "                'апрель',\n",
    "                'май',\n",
    "                'июнь',\n",
    "                'июль',\n",
    "                'август',\n",
    "                'сентябрь',\n",
    "                'октябрь',\n",
    "                'ноябрь',\n",
    "                'декабрь',\n",
    "                ]\n",
    "    numered_month = {m:n for n,m in enumerate(month_list, start=1)}\n",
    "    lem = Mystem()\n",
    "    lemmatized_month = lem.lemmatize(date[1])[0]\n",
    "\n",
    "    date[1] = str(numered_month[lemmatized_month])\n",
    "\n",
    "    return datetime.strptime(' '.join(date), '%d %m %Y %H.%M')\n",
    "    \n",
    "    \n",
    "    \n",
    "    \n"
   ]
  },
  {
   "cell_type": "code",
   "execution_count": 36,
   "id": "3dc74e3a-d441-4c21-9009-1d714c8e7ef7",
   "metadata": {
    "ExecuteTime": {
     "end_time": "2022-11-26T15:07:46.360751Z",
     "start_time": "2022-11-26T15:07:46.339486Z"
    },
    "code_folding": []
   },
   "outputs": [],
   "source": [
    "def get_concert_dataframe(concert_urls:list,\n",
    "                     home_class=CONFIG['home_concert_class'],\n",
    "                     tour_class=CONFIG['tour_concert_class'],\n",
    "                     timeout=2,\n",
    "                     scan_range=None,\n",
    "                     stop_sentences=CONFIG['stop_sentences'],\n",
    "                     verbose=True,\n",
    "                    save_df=True,\n",
    "                    upload=True\n",
    "                    ) -> pd.DataFrame:\n",
    "    \n",
    "    sync_df = get_sync_table()\n",
    "    \n",
    "    if scan_range != None:\n",
    "        concert_urls = concert_urls[scan_range[0]:scan_range[1]]\n",
    "    concerts_list = []\n",
    "    \n",
    "    chars_to_replace = {ord('\\xa0'):None, ord('\\n'): None, ord('\\r'): None}\n",
    "    \n",
    "    for url in tqdm(concert_urls, desc='parsing data'):\n",
    "        concert = {}\n",
    "        concert_page = requests.get(url)\n",
    "        concert_soup = BeautifulSoup(concert_page.text, 'html.parser')\n",
    "        \n",
    "        concert['title'] = concert_soup.title.text.translate(chars_to_replace)\n",
    "#         if concert['title'] in sync_df['title'].values:\n",
    "#             print(f\"{concert['title']}\\nAlready parsed, move on.\")\n",
    "#             continue\n",
    "        time_place = concert_soup.find(class_='place').text.translate(chars_to_replace)\n",
    "        concert['place'] = re.sub(r'\\|[^\\|]*$', '', ' '.join(time_place.split()))\n",
    "        # date parsing\n",
    "        soup_dt = concert_soup.find(class_ = 'active')\n",
    "        # active year\n",
    "        year = concert_soup.find('div', {'id':'dates'}).find('span', class_='year').text\n",
    "        # month\n",
    "        month = concert_soup.find('a', class_='active').text.split()[1]\n",
    "        #day\n",
    "        day = concert_soup.find('a', class_='active').text.split()[0]\n",
    "        #time\n",
    "        hour = time_place.split()[-1]\n",
    "        # fill dictonary\n",
    "        concert['dt'] = str(convert_date([day, month, year, hour]))\n",
    "        # Is on tour\n",
    "        russia_tour, international_tour = False, False\n",
    "        if 'tour' in url:\n",
    "            if 'Россия' in concert['place'].split():\n",
    "                russia_tour = True\n",
    "            else:\n",
    "                international_tour = True\n",
    "\n",
    "        # Parse concert program\n",
    "        class_mode = tour_class if (russia_tour or international_tour) else home_class\n",
    "        program = [' '.join(txt.text.split()) for txt in concert_soup.find(class_ = class_mode)]\n",
    "        # Remove empty elements of list\n",
    "        program = list(filter(None, program))\n",
    "        # Remove useless sentences\n",
    "#         program = ' '.join([s for s in program if not s.lower() in stop_sentences])\n",
    "        program = [s for s in program if not s.lower() in stop_sentences]\n",
    "        concert['program'] = program\n",
    "        \n",
    "        # Default employed values \n",
    "        concert['n_rehersals'] = 0\n",
    "        concert['principal'] = False\n",
    "        concert['co-principal'] = False\n",
    "        concert['second'] = False\n",
    "        concert['contra'] = False\n",
    "        \n",
    "        # Tour modes\n",
    "        concert['russia_tour'] = russia_tour\n",
    "        concert['international_tour'] = international_tour\n",
    "        concert['url'] = url\n",
    "        concerts_list.append(concert)\n",
    "        if verbose: print(f\"\\n{concert['title']}\\ndata parsed. timeout {timeout} sec.\\n{'___'*10}\")\n",
    "        time.sleep(timeout)\n",
    "    print('Finished')\n",
    "    \n",
    "    concerts_df = pd.DataFrame(concerts_list)\n",
    "    # Save parsed data to file\n",
    "    if save_df: \n",
    "        concerts_df.to_csv(CONFIG['parsed_df'], index=False)\n",
    "    # Upload values to google sheets\n",
    "    if upload: \n",
    "        upload_to_gs(concerts_df)\n",
    "    \n",
    "    return concerts_list"
   ]
  },
  {
   "cell_type": "code",
   "execution_count": null,
   "id": "ce91cc3a",
   "metadata": {},
   "outputs": [],
   "source": []
  },
  {
   "cell_type": "code",
   "execution_count": 37,
   "id": "58738b42-4e45-481c-9493-2d491b8bc56d",
   "metadata": {
    "ExecuteTime": {
     "end_time": "2022-11-26T15:07:57.363337Z",
     "start_time": "2022-11-26T15:07:46.949457Z"
    }
   },
   "outputs": [
    {
     "data": {
      "application/vnd.jupyter.widget-view+json": {
       "model_id": "817057393d6e47dda0266afb3b36e6f1",
       "version_major": 2,
       "version_minor": 0
      },
      "text/plain": [
       "getting raw urls:   0%|          | 0/694 [00:00<?, ?it/s]"
      ]
     },
     "metadata": {},
     "output_type": "display_data"
    },
    {
     "data": {
      "application/vnd.jupyter.widget-view+json": {
       "model_id": "a66da100ad9b4eab8f6e2a6483e0eed6",
       "version_major": 2,
       "version_minor": 0
      },
      "text/plain": [
       "filter urls by year:   0%|          | 0/694 [00:00<?, ?it/s]"
      ]
     },
     "metadata": {},
     "output_type": "display_data"
    },
    {
     "data": {
      "application/vnd.jupyter.widget-view+json": {
       "model_id": "685d4dd47d4346b891f34df1a2ba6e73",
       "version_major": 2,
       "version_minor": 0
      },
      "text/plain": [
       "makeing concert urls list:   0%|          | 0/36 [00:00<?, ?it/s]"
      ]
     },
     "metadata": {},
     "output_type": "display_data"
    },
    {
     "data": {
      "application/vnd.jupyter.widget-view+json": {
       "model_id": "55bb6466dec3404284a7f59edb5ca670",
       "version_major": 2,
       "version_minor": 0
      },
      "text/plain": [
       "parsing data:   0%|          | 0/3 [00:00<?, ?it/s]"
      ]
     },
     "metadata": {},
     "output_type": "display_data"
    },
    {
     "name": "stdout",
     "output_type": "stream",
     "text": [
      "Finished\n"
     ]
    }
   ],
   "source": [
    "concerts_urls = get_concert_urls(CONFIG['base_url'])\n",
    "parsed_df = get_concert_dataframe(concerts_urls, \n",
    "                               verbose=False,\n",
    "                               timeout=0.5,\n",
    "                                scan_range=(0,3)\n",
    "                                  ,upload=False\n",
    "                              )"
   ]
  },
  {
   "cell_type": "code",
   "execution_count": 155,
   "id": "8a76ec0f",
   "metadata": {
    "ExecuteTime": {
     "end_time": "2022-11-26T12:44:06.800756Z",
     "start_time": "2022-11-26T12:44:06.783063Z"
    }
   },
   "outputs": [
    {
     "data": {
      "text/plain": [
       "0    (П. Чайковский | Вальс цветов из балета «Щелку...\n",
       "1    (Г. Свиридов | «Метель», музыкальные иллюстрац...\n",
       "2    (С. Прокофьев | Сюита из балета «Ромео и Джуль...\n",
       "Name: program, dtype: object"
      ]
     },
     "execution_count": 155,
     "metadata": {},
     "output_type": "execute_result"
    }
   ],
   "source": []
  },
  {
   "cell_type": "code",
   "execution_count": 154,
   "id": "1cc75798",
   "metadata": {
    "ExecuteTime": {
     "end_time": "2022-11-26T12:43:36.235500Z",
     "start_time": "2022-11-26T12:43:34.548828Z"
    }
   },
   "outputs": [
    {
     "ename": "APIError",
     "evalue": "{'code': 400, 'message': 'Invalid values[1][3]: list_value {\\n  values {\\n    string_value: \"\\\\320\\\\237. \\\\320\\\\247\\\\320\\\\260\\\\320\\\\271\\\\320\\\\272\\\\320\\\\276\\\\320\\\\262\\\\321\\\\201\\\\320\\\\272\\\\320\\\\270\\\\320\\\\271 | \\\\320\\\\222\\\\320\\\\260\\\\320\\\\273\\\\321\\\\214\\\\321\\\\201 \\\\321\\\\206\\\\320\\\\262\\\\320\\\\265\\\\321\\\\202\\\\320\\\\276\\\\320\\\\262 \\\\320\\\\270\\\\320\\\\267 \\\\320\\\\261\\\\320\\\\260\\\\320\\\\273\\\\320\\\\265\\\\321\\\\202\\\\320\\\\260 \\\\302\\\\253\\\\320\\\\251\\\\320\\\\265\\\\320\\\\273\\\\320\\\\272\\\\321\\\\203\\\\320\\\\275\\\\321\\\\207\\\\320\\\\270\\\\320\\\\272\\\\302\\\\273\"\\n  }\\n  values {\\n    string_value: \"\\\\320\\\\237. \\\\320\\\\247\\\\320\\\\260\\\\320\\\\271\\\\320\\\\272\\\\320\\\\276\\\\320\\\\262\\\\321\\\\201\\\\320\\\\272\\\\320\\\\270\\\\320\\\\271 | \\\\320\\\\220\\\\321\\\\200\\\\320\\\\270\\\\320\\\\276\\\\320\\\\267\\\\320\\\\276 \\\\320\\\\233\\\\320\\\\265\\\\320\\\\275\\\\321\\\\201\\\\320\\\\272\\\\320\\\\276\\\\320\\\\263\\\\320\\\\276 \\\\320\\\\270\\\\320\\\\267 \\\\320\\\\276\\\\320\\\\277\\\\320\\\\265\\\\321\\\\200\\\\321\\\\213 \\\\302\\\\253\\\\320\\\\225\\\\320\\\\262\\\\320\\\\263\\\\320\\\\265\\\\320\\\\275\\\\320\\\\270\\\\320\\\\271 \\\\320\\\\236\\\\320\\\\275\\\\320\\\\265\\\\320\\\\263\\\\320\\\\270\\\\320\\\\275\\\\302\\\\273 (\\\\320\\\\220. \\\\320\\\\242\\\\320\\\\260\\\\321\\\\202\\\\320\\\\260\\\\321\\\\200\\\\320\\\\270\\\\320\\\\275\\\\321\\\\206\\\\320\\\\265\\\\320\\\\262)\"\\n  }\\n  values {\\n    string_value: \"\\\\320\\\\235. \\\\320\\\\240\\\\320\\\\270\\\\320\\\\274\\\\321\\\\201\\\\320\\\\272\\\\320\\\\270\\\\320\\\\271-\\\\320\\\\232\\\\320\\\\276\\\\321\\\\200\\\\321\\\\201\\\\320\\\\260\\\\320\\\\272\\\\320\\\\276\\\\320\\\\262 | \\\\320\\\\220\\\\321\\\\200\\\\320\\\\270\\\\321\\\\217 \\\\320\\\\233\\\\320\\\\265\\\\320\\\\262\\\\320\\\\272\\\\320\\\\276 \\\\320\\\\270\\\\320\\\\267 \\\\320\\\\276\\\\320\\\\277\\\\320\\\\265\\\\321\\\\200\\\\321\\\\213 \\\\302\\\\253\\\\320\\\\234\\\\320\\\\260\\\\320\\\\271\\\\321\\\\201\\\\320\\\\272\\\\320\\\\260\\\\321\\\\217 \\\\320\\\\275\\\\320\\\\276\\\\321\\\\207\\\\321\\\\214\\\\302\\\\273 (\\\\320\\\\220. \\\\320\\\\242\\\\320\\\\260\\\\321\\\\202\\\\320\\\\260\\\\321\\\\200\\\\320\\\\270\\\\320\\\\275\\\\321\\\\206\\\\320\\\\265\\\\320\\\\262)\"\\n  }\\n  values {\\n    string_value: \"\\\\320\\\\235. \\\\320\\\\240\\\\320\\\\270\\\\320\\\\274\\\\321\\\\201\\\\320\\\\272\\\\320\\\\270\\\\320\\\\271-\\\\320\\\\232\\\\320\\\\276\\\\321\\\\200\\\\321\\\\201\\\\320\\\\260\\\\320\\\\272\\\\320\\\\276\\\\320\\\\262 | \\\\320\\\\220\\\\321\\\\200\\\\320\\\\270\\\\321\\\\217 \\\\320\\\\223\\\\321\\\\200\\\\321\\\\217\\\\320\\\\267\\\\320\\\\275\\\\320\\\\276\\\\320\\\\263\\\\320\\\\276 \\\\320\\\\270\\\\320\\\\267 \\\\320\\\\276\\\\320\\\\277\\\\320\\\\265\\\\321\\\\200\\\\321\\\\213 \\\\302\\\\253\\\\320\\\\246\\\\320\\\\260\\\\321\\\\200\\\\321\\\\201\\\\320\\\\272\\\\320\\\\260\\\\321\\\\217 \\\\320\\\\275\\\\320\\\\265\\\\320\\\\262\\\\320\\\\265\\\\321\\\\201\\\\321\\\\202\\\\320\\\\260\\\\302\\\\273 (\\\\320\\\\222. \\\\320\\\\233\\\\320\\\\260\\\\320\\\\264\\\\321\\\\216\\\\320\\\\272)\"\\n  }\\n  values {\\n    string_value: \"\\\\320\\\\220. \\\\320\\\\221\\\\320\\\\276\\\\321\\\\200\\\\320\\\\276\\\\320\\\\264\\\\320\\\\270\\\\320\\\\275 | \\\\320\\\\232\\\\320\\\\260\\\\320\\\\262\\\\320\\\\260\\\\321\\\\202\\\\320\\\\270\\\\320\\\\275\\\\320\\\\260 \\\\320\\\\222\\\\320\\\\273\\\\320\\\\260\\\\320\\\\264\\\\320\\\\270\\\\320\\\\274\\\\320\\\\270\\\\321\\\\200\\\\320\\\\260 \\\\320\\\\230\\\\320\\\\263\\\\320\\\\276\\\\321\\\\200\\\\320\\\\265\\\\320\\\\262\\\\320\\\\270\\\\321\\\\207\\\\320\\\\260 \\\\320\\\\270\\\\320\\\\267 \\\\320\\\\276\\\\320\\\\277\\\\320\\\\265\\\\321\\\\200\\\\321\\\\213 \\\\302\\\\253\\\\320\\\\232\\\\320\\\\275\\\\321\\\\217\\\\320\\\\267\\\\321\\\\214 \\\\320\\\\230\\\\320\\\\263\\\\320\\\\276\\\\321\\\\200\\\\321\\\\214\\\\302\\\\273 (\\\\320\\\\220. \\\\320\\\\242\\\\320\\\\260\\\\321\\\\202\\\\320\\\\260\\\\321\\\\200\\\\320\\\\270\\\\320\\\\275\\\\321\\\\206\\\\320\\\\265\\\\320\\\\262)\"\\n  }\\n  values {\\n    string_value: \"\\\\320\\\\237. \\\\320\\\\247\\\\320\\\\260\\\\320\\\\271\\\\320\\\\272\\\\320\\\\276\\\\320\\\\262\\\\321\\\\201\\\\320\\\\272\\\\320\\\\270\\\\320\\\\271 | \\\\320\\\\237\\\\320\\\\260\\\\320\\\\275\\\\320\\\\276\\\\321\\\\200\\\\320\\\\260\\\\320\\\\274\\\\320\\\\260 \\\\320\\\\270\\\\320\\\\267 \\\\320\\\\261\\\\320\\\\260\\\\320\\\\273\\\\320\\\\265\\\\321\\\\202\\\\320\\\\260 \\\\302\\\\253\\\\320\\\\241\\\\320\\\\277\\\\321\\\\217\\\\321\\\\211\\\\320\\\\260\\\\321\\\\217 \\\\320\\\\272\\\\321\\\\200\\\\320\\\\260\\\\321\\\\201\\\\320\\\\260\\\\320\\\\262\\\\320\\\\270\\\\321\\\\206\\\\320\\\\260\\\\302\\\\273\"\\n  }\\n  values {\\n    string_value: \"\\\\320\\\\237. \\\\320\\\\247\\\\320\\\\260\\\\320\\\\271\\\\320\\\\272\\\\320\\\\276\\\\320\\\\262\\\\321\\\\201\\\\320\\\\272\\\\320\\\\270\\\\320\\\\271 | \\\\320\\\\220\\\\321\\\\200\\\\320\\\\270\\\\321\\\\217 \\\\320\\\\272\\\\320\\\\275\\\\321\\\\217\\\\320\\\\267\\\\321\\\\217 \\\\320\\\\225\\\\320\\\\273\\\\320\\\\265\\\\321\\\\206\\\\320\\\\272\\\\320\\\\276\\\\320\\\\263\\\\320\\\\276 \\\\320\\\\270\\\\320\\\\267 \\\\320\\\\276\\\\320\\\\277\\\\320\\\\265\\\\321\\\\200\\\\321\\\\213 \\\\302\\\\253\\\\320\\\\237\\\\320\\\\270\\\\320\\\\272\\\\320\\\\276\\\\320\\\\262\\\\320\\\\260\\\\321\\\\217 \\\\320\\\\264\\\\320\\\\260\\\\320\\\\274\\\\320\\\\260\\\\302\\\\273 (\\\\320\\\\222. \\\\320\\\\233\\\\320\\\\260\\\\320\\\\264\\\\321\\\\216\\\\320\\\\272)\"\\n  }\\n  values {\\n    string_value: \"\\\\320\\\\237. \\\\320\\\\247\\\\320\\\\260\\\\320\\\\271\\\\320\\\\272\\\\320\\\\276\\\\320\\\\262\\\\321\\\\201\\\\320\\\\272\\\\320\\\\270\\\\320\\\\271 | \\\\320\\\\220\\\\321\\\\200\\\\320\\\\270\\\\320\\\\276\\\\320\\\\267\\\\320\\\\276 \\\\320\\\\240\\\\320\\\\276\\\\320\\\\261\\\\320\\\\265\\\\321\\\\200\\\\321\\\\202\\\\320\\\\260 \\\\320\\\\270\\\\320\\\\267 \\\\320\\\\276\\\\320\\\\277\\\\320\\\\265\\\\321\\\\200\\\\321\\\\213 \\\\302\\\\253\\\\320\\\\230\\\\320\\\\276\\\\320\\\\273\\\\320\\\\260\\\\320\\\\275\\\\321\\\\202\\\\320\\\\260\\\\302\\\\273 (\\\\320\\\\222. \\\\320\\\\233\\\\320\\\\260\\\\320\\\\264\\\\321\\\\216\\\\320\\\\272)\"\\n  }\\n  values {\\n    string_value: \"\\\\320\\\\223. \\\\320\\\\241\\\\320\\\\262\\\\320\\\\270\\\\321\\\\200\\\\320\\\\270\\\\320\\\\264\\\\320\\\\276\\\\320\\\\262 | \\\\302\\\\253\\\\320\\\\222\\\\321\\\\200\\\\320\\\\265\\\\320\\\\274\\\\321\\\\217, \\\\320\\\\262\\\\320\\\\277\\\\320\\\\265\\\\321\\\\200\\\\320\\\\265\\\\320\\\\264!\\\\302\\\\273 (\\\\320\\\\240\\\\321\\\\203\\\\320\\\\274\\\\320\\\\261\\\\320\\\\260) \\\\320\\\\270\\\\320\\\\267 \\\\320\\\\274\\\\321\\\\203\\\\320\\\\267\\\\321\\\\213\\\\320\\\\272\\\\320\\\\270 \\\\320\\\\272 \\\\320\\\\276\\\\320\\\\264\\\\320\\\\275\\\\320\\\\276\\\\320\\\\270\\\\320\\\\274\\\\320\\\\265\\\\320\\\\275\\\\320\\\\275\\\\320\\\\276\\\\320\\\\274\\\\321\\\\203 \\\\320\\\\272\\\\320\\\\270\\\\320\\\\275\\\\320\\\\276\\\\321\\\\204\\\\320\\\\270\\\\320\\\\273\\\\321\\\\214\\\\320\\\\274\\\\321\\\\203\"\\n  }\\n  values {\\n    string_value: \"\\\\320\\\\223. \\\\320\\\\241\\\\320\\\\262\\\\320\\\\270\\\\321\\\\200\\\\320\\\\270\\\\320\\\\264\\\\320\\\\276\\\\320\\\\262 | \\\\320\\\\240\\\\320\\\\276\\\\320\\\\274\\\\320\\\\260\\\\320\\\\275\\\\321\\\\201 \\\\320\\\\270\\\\320\\\\267 \\\\320\\\\274\\\\321\\\\203\\\\320\\\\267\\\\321\\\\213\\\\320\\\\272\\\\320\\\\260\\\\320\\\\273\\\\321\\\\214\\\\320\\\\275\\\\321\\\\213\\\\321\\\\205 \\\\320\\\\270\\\\320\\\\273\\\\320\\\\273\\\\321\\\\216\\\\321\\\\201\\\\321\\\\202\\\\321\\\\200\\\\320\\\\260\\\\321\\\\206\\\\320\\\\270\\\\320\\\\271 \\\\320\\\\272 \\\\320\\\\277\\\\320\\\\276\\\\320\\\\262\\\\320\\\\265\\\\321\\\\201\\\\321\\\\202\\\\320\\\\270 \\\\320\\\\220. \\\\320\\\\237\\\\321\\\\203\\\\321\\\\210\\\\320\\\\272\\\\320\\\\270\\\\320\\\\275\\\\320\\\\260 \\\\302\\\\253\\\\320\\\\234\\\\320\\\\265\\\\321\\\\202\\\\320\\\\265\\\\320\\\\273\\\\321\\\\214\\\\302\\\\273\"\\n  }\\n  values {\\n    string_value: \"\\\\320\\\\220. \\\\320\\\\237\\\\320\\\\260\\\\321\\\\205\\\\320\\\\274\\\\321\\\\203\\\\321\\\\202\\\\320\\\\276\\\\320\\\\262\\\\320\\\\260 | \\\\302\\\\253\\\\320\\\\234\\\\320\\\\265\\\\320\\\\273\\\\320\\\\276\\\\320\\\\264\\\\320\\\\270\\\\321\\\\217\\\\302\\\\273 (\\\\320\\\\222. \\\\320\\\\233\\\\320\\\\260\\\\320\\\\264\\\\321\\\\216\\\\320\\\\272)\"\\n  }\\n  values {\\n    string_value: \"\\\\320\\\\220. \\\\320\\\\237\\\\320\\\\260\\\\321\\\\205\\\\320\\\\274\\\\321\\\\203\\\\321\\\\202\\\\320\\\\276\\\\320\\\\262\\\\320\\\\260 | \\\\302\\\\253\\\\320\\\\235\\\\320\\\\260\\\\320\\\\274 \\\\320\\\\275\\\\320\\\\265 \\\\320\\\\266\\\\320\\\\270\\\\321\\\\202\\\\321\\\\214 \\\\320\\\\264\\\\321\\\\200\\\\321\\\\203\\\\320\\\\263 \\\\320\\\\261\\\\320\\\\265\\\\320\\\\267 \\\\320\\\\264\\\\321\\\\200\\\\321\\\\203\\\\320\\\\263\\\\320\\\\260\\\\302\\\\273 (\\\\320\\\\222. \\\\320\\\\233\\\\320\\\\260\\\\320\\\\264\\\\321\\\\216\\\\320\\\\272)\"\\n  }\\n  values {\\n    string_value: \"\\\\320\\\\220. \\\\320\\\\237\\\\320\\\\260\\\\321\\\\205\\\\320\\\\274\\\\321\\\\203\\\\321\\\\202\\\\320\\\\276\\\\320\\\\262\\\\320\\\\260 | \\\\302\\\\253\\\\320\\\\221\\\\320\\\\265\\\\320\\\\273\\\\320\\\\276\\\\320\\\\262\\\\320\\\\265\\\\320\\\\266\\\\321\\\\201\\\\320\\\\272\\\\320\\\\260\\\\321\\\\217 \\\\320\\\\277\\\\321\\\\203\\\\321\\\\211\\\\320\\\\260\\\\302\\\\273 (\\\\320\\\\220. \\\\320\\\\242\\\\320\\\\260\\\\321\\\\202\\\\320\\\\260\\\\321\\\\200\\\\320\\\\270\\\\320\\\\275\\\\321\\\\206\\\\320\\\\265\\\\320\\\\262)\"\\n  }\\n  values {\\n    string_value: \"\\\\320\\\\220. \\\\320\\\\237\\\\320\\\\260\\\\321\\\\205\\\\320\\\\274\\\\321\\\\203\\\\321\\\\202\\\\320\\\\276\\\\320\\\\262\\\\320\\\\260 | \\\\302\\\\253\\\\320\\\\241\\\\321\\\\202\\\\320\\\\260\\\\321\\\\200\\\\321\\\\213\\\\320\\\\271 \\\\320\\\\272\\\\320\\\\273\\\\320\\\\265\\\\320\\\\275\\\\302\\\\273 (\\\\320\\\\220. \\\\320\\\\242\\\\320\\\\260\\\\321\\\\202\\\\320\\\\260\\\\321\\\\200\\\\320\\\\270\\\\320\\\\275\\\\321\\\\206\\\\320\\\\265\\\\320\\\\262)\"\\n  }\\n  values {\\n    string_value: \"\\\\320\\\\220. \\\\320\\\\237\\\\320\\\\260\\\\321\\\\205\\\\320\\\\274\\\\321\\\\203\\\\321\\\\202\\\\320\\\\276\\\\320\\\\262\\\\320\\\\260 | \\\\302\\\\253\\\\320\\\\232\\\\320\\\\260\\\\320\\\\272 \\\\320\\\\274\\\\320\\\\276\\\\320\\\\273\\\\320\\\\276\\\\320\\\\264\\\\321\\\\213 \\\\320\\\\274\\\\321\\\\213 \\\\320\\\\261\\\\321\\\\213\\\\320\\\\273\\\\320\\\\270\\\\302\\\\273 (\\\\320\\\\222. \\\\320\\\\233\\\\320\\\\260\\\\320\\\\264\\\\321\\\\216\\\\320\\\\272)\"\\n  }\\n  values {\\n    string_value: \"\\\\320\\\\220. \\\\320\\\\237\\\\320\\\\260\\\\321\\\\205\\\\320\\\\274\\\\321\\\\203\\\\321\\\\202\\\\320\\\\276\\\\320\\\\262\\\\320\\\\260 | \\\\302\\\\253\\\\320\\\\240\\\\321\\\\203\\\\321\\\\201\\\\321\\\\201\\\\320\\\\272\\\\320\\\\270\\\\320\\\\271 \\\\320\\\\262\\\\320\\\\260\\\\320\\\\273\\\\321\\\\214\\\\321\\\\201\\\\302\\\\273 (\\\\320\\\\222. \\\\320\\\\233\\\\320\\\\260\\\\320\\\\264\\\\321\\\\216\\\\320\\\\272)\"\\n  }\\n  values {\\n    string_value: \"\\\\320\\\\220. \\\\320\\\\237\\\\320\\\\260\\\\321\\\\205\\\\320\\\\274\\\\321\\\\203\\\\321\\\\202\\\\320\\\\276\\\\320\\\\262\\\\320\\\\260 | \\\\302\\\\253\\\\320\\\\235\\\\320\\\\260\\\\320\\\\264\\\\320\\\\265\\\\320\\\\266\\\\320\\\\264\\\\320\\\\260\\\\302\\\\273 (\\\\320\\\\220. \\\\320\\\\242\\\\320\\\\260\\\\321\\\\202\\\\320\\\\260\\\\321\\\\200\\\\320\\\\270\\\\320\\\\275\\\\321\\\\206\\\\320\\\\265\\\\320\\\\262, \\\\320\\\\222. \\\\320\\\\233\\\\320\\\\260\\\\320\\\\264\\\\321\\\\216\\\\320\\\\272)\"\\n  }\\n  values {\\n    string_value: \"\\\\320\\\\220. \\\\320\\\\237\\\\320\\\\260\\\\321\\\\205\\\\320\\\\274\\\\321\\\\203\\\\321\\\\202\\\\320\\\\276\\\\320\\\\262\\\\320\\\\260 | \\\\302\\\\253\\\\320\\\\232\\\\320\\\\276\\\\320\\\\274\\\\320\\\\260\\\\320\\\\275\\\\320\\\\264\\\\320\\\\260 \\\\320\\\\274\\\\320\\\\276\\\\320\\\\273\\\\320\\\\276\\\\320\\\\264\\\\320\\\\276\\\\321\\\\201\\\\321\\\\202\\\\320\\\\270 \\\\320\\\\275\\\\320\\\\260\\\\321\\\\210\\\\320\\\\265\\\\320\\\\271\\\\302\\\\273 (\\\\320\\\\220. \\\\320\\\\242\\\\320\\\\260\\\\321\\\\202\\\\320\\\\260\\\\321\\\\200\\\\320\\\\270\\\\320\\\\275\\\\321\\\\206\\\\320\\\\265\\\\320\\\\262, \\\\320\\\\222. \\\\320\\\\233\\\\320\\\\260\\\\320\\\\264\\\\321\\\\216\\\\320\\\\272)\"\\n  }\\n  values {\\n    string_value: \"\\\\320\\\\241\\\\320\\\\276\\\\320\\\\273\\\\320\\\\270\\\\321\\\\201\\\\321\\\\202\\\\321\\\\213\"\\n  }\\n  values {\\n    string_value: \"\\\\320\\\\220\\\\320\\\\273\\\\320\\\\265\\\\320\\\\272\\\\321\\\\201\\\\320\\\\265\\\\320\\\\271 \\\\320\\\\242\\\\320\\\\260\\\\321\\\\202\\\\320\\\\260\\\\321\\\\200\\\\320\\\\270\\\\320\\\\275\\\\321\\\\206\\\\320\\\\265\\\\320\\\\262 | \\\\321\\\\202\\\\320\\\\265\\\\320\\\\275\\\\320\\\\276\\\\321\\\\200\"\\n  }\\n  values {\\n    string_value: \"\\\\320\\\\222\\\\320\\\\260\\\\321\\\\201\\\\320\\\\270\\\\320\\\\273\\\\320\\\\270\\\\320\\\\271 \\\\320\\\\233\\\\320\\\\260\\\\320\\\\264\\\\321\\\\216\\\\320\\\\272 | \\\\320\\\\261\\\\320\\\\260\\\\321\\\\200\\\\320\\\\270\\\\321\\\\202\\\\320\\\\276\\\\320\\\\275\"\\n  }\\n  values {\\n    string_value: \"\\\\320\\\\224\\\\320\\\\270\\\\321\\\\200\\\\320\\\\270\\\\320\\\\266\\\\320\\\\265\\\\321\\\\200 | \\\\320\\\\222\\\\320\\\\273\\\\320\\\\260\\\\320\\\\264\\\\320\\\\270\\\\320\\\\274\\\\320\\\\270\\\\321\\\\200 \\\\320\\\\244\\\\320\\\\265\\\\320\\\\264\\\\320\\\\276\\\\321\\\\201\\\\320\\\\265\\\\320\\\\265\\\\320\\\\262\"\\n  }\\n}\\n', 'status': 'INVALID_ARGUMENT'}",
     "output_type": "error",
     "traceback": [
      "\u001b[0;31m---------------------------------------------------------------------------\u001b[0m",
      "\u001b[0;31mAPIError\u001b[0m                                  Traceback (most recent call last)",
      "Cell \u001b[0;32mIn [154], line 1\u001b[0m\n\u001b[0;32m----> 1\u001b[0m \u001b[43mupload_to_gs\u001b[49m\u001b[43m(\u001b[49m\u001b[43mparsed_df\u001b[49m\u001b[43m)\u001b[49m\n",
      "Cell \u001b[0;32mIn [126], line 9\u001b[0m, in \u001b[0;36mupload_to_gs\u001b[0;34m(to_upload_df, secret_json, table_name, sheet_name)\u001b[0m\n\u001b[1;32m      7\u001b[0m     worksheet \u001b[38;5;241m=\u001b[39m table\u001b[38;5;241m.\u001b[39mworksheet(sheet_name)\n\u001b[1;32m      8\u001b[0m \u001b[38;5;66;03m#     to_upload_df['dt'] = to_upload_df['dt'].drop(columns='dt')#.astype(str)\u001b[39;00m\n\u001b[0;32m----> 9\u001b[0m     \u001b[43mworksheet\u001b[49m\u001b[38;5;241;43m.\u001b[39;49m\u001b[43mupdate\u001b[49m\u001b[43m(\u001b[49m\u001b[43m[\u001b[49m\u001b[43mto_upload_df\u001b[49m\u001b[38;5;241;43m.\u001b[39;49m\u001b[43mcolumns\u001b[49m\u001b[38;5;241;43m.\u001b[39;49m\u001b[43mvalues\u001b[49m\u001b[38;5;241;43m.\u001b[39;49m\u001b[43mtolist\u001b[49m\u001b[43m(\u001b[49m\u001b[43m)\u001b[49m\u001b[43m]\u001b[49m\u001b[43m \u001b[49m\u001b[38;5;241;43m+\u001b[39;49m\u001b[43m \u001b[49m\u001b[43mto_upload_df\u001b[49m\u001b[38;5;241;43m.\u001b[39;49m\u001b[43mvalues\u001b[49m\u001b[38;5;241;43m.\u001b[39;49m\u001b[43mtolist\u001b[49m\u001b[43m(\u001b[49m\u001b[43m)\u001b[49m\u001b[43m)\u001b[49m\n",
      "File \u001b[0;32m/opt/miniconda3/envs/torch/lib/python3.8/site-packages/gspread/utils.py:702\u001b[0m, in \u001b[0;36maccepted_kwargs.<locals>.decorate.<locals>.wrapper\u001b[0;34m(*args, **kwargs)\u001b[0m\n\u001b[1;32m    699\u001b[0m \u001b[38;5;28;01mfor\u001b[39;00m k, v \u001b[38;5;129;01min\u001b[39;00m default_kwargs\u001b[38;5;241m.\u001b[39mitems():\n\u001b[1;32m    700\u001b[0m     kwargs\u001b[38;5;241m.\u001b[39msetdefault(k, v)\n\u001b[0;32m--> 702\u001b[0m \u001b[38;5;28;01mreturn\u001b[39;00m \u001b[43mf\u001b[49m\u001b[43m(\u001b[49m\u001b[38;5;241;43m*\u001b[39;49m\u001b[43margs\u001b[49m\u001b[43m,\u001b[49m\u001b[43m \u001b[49m\u001b[38;5;241;43m*\u001b[39;49m\u001b[38;5;241;43m*\u001b[39;49m\u001b[43mkwargs\u001b[49m\u001b[43m)\u001b[49m\n",
      "File \u001b[0;32m/opt/miniconda3/envs/torch/lib/python3.8/site-packages/gspread/worksheet.py:1040\u001b[0m, in \u001b[0;36mWorksheet.update\u001b[0;34m(self, range_name, values, **kwargs)\u001b[0m\n\u001b[1;32m   1025\u001b[0m     kwargs[\u001b[38;5;124m\"\u001b[39m\u001b[38;5;124mvalue_input_option\u001b[39m\u001b[38;5;124m\"\u001b[39m] \u001b[38;5;241m=\u001b[39m (\n\u001b[1;32m   1026\u001b[0m         ValueInputOption\u001b[38;5;241m.\u001b[39mraw \u001b[38;5;28;01mif\u001b[39;00m kwargs[\u001b[38;5;124m\"\u001b[39m\u001b[38;5;124mraw\u001b[39m\u001b[38;5;124m\"\u001b[39m] \u001b[38;5;28;01melse\u001b[39;00m ValueInputOption\u001b[38;5;241m.\u001b[39muser_entered\n\u001b[1;32m   1027\u001b[0m     )\n\u001b[1;32m   1029\u001b[0m params \u001b[38;5;241m=\u001b[39m filter_dict_values(\n\u001b[1;32m   1030\u001b[0m     {\n\u001b[1;32m   1031\u001b[0m         \u001b[38;5;124m\"\u001b[39m\u001b[38;5;124mvalueInputOption\u001b[39m\u001b[38;5;124m\"\u001b[39m: kwargs[\u001b[38;5;124m\"\u001b[39m\u001b[38;5;124mvalue_input_option\u001b[39m\u001b[38;5;124m\"\u001b[39m],\n\u001b[0;32m   (...)\u001b[0m\n\u001b[1;32m   1037\u001b[0m     }\n\u001b[1;32m   1038\u001b[0m )\n\u001b[0;32m-> 1040\u001b[0m response \u001b[38;5;241m=\u001b[39m \u001b[38;5;28;43mself\u001b[39;49m\u001b[38;5;241;43m.\u001b[39;49m\u001b[43mspreadsheet\u001b[49m\u001b[38;5;241;43m.\u001b[39;49m\u001b[43mvalues_update\u001b[49m\u001b[43m(\u001b[49m\n\u001b[1;32m   1041\u001b[0m \u001b[43m    \u001b[49m\u001b[43mrange_name\u001b[49m\u001b[43m,\u001b[49m\n\u001b[1;32m   1042\u001b[0m \u001b[43m    \u001b[49m\u001b[43mparams\u001b[49m\u001b[38;5;241;43m=\u001b[39;49m\u001b[43mparams\u001b[49m\u001b[43m,\u001b[49m\n\u001b[1;32m   1043\u001b[0m \u001b[43m    \u001b[49m\u001b[43mbody\u001b[49m\u001b[38;5;241;43m=\u001b[39;49m\u001b[43mfilter_dict_values\u001b[49m\u001b[43m(\u001b[49m\n\u001b[1;32m   1044\u001b[0m \u001b[43m        \u001b[49m\u001b[43m{\u001b[49m\u001b[38;5;124;43m\"\u001b[39;49m\u001b[38;5;124;43mvalues\u001b[39;49m\u001b[38;5;124;43m\"\u001b[39;49m\u001b[43m:\u001b[49m\u001b[43m \u001b[49m\u001b[43mvalues\u001b[49m\u001b[43m,\u001b[49m\u001b[43m \u001b[49m\u001b[38;5;124;43m\"\u001b[39;49m\u001b[38;5;124;43mmajorDimension\u001b[39;49m\u001b[38;5;124;43m\"\u001b[39;49m\u001b[43m:\u001b[49m\u001b[43m \u001b[49m\u001b[43mkwargs\u001b[49m\u001b[43m[\u001b[49m\u001b[38;5;124;43m\"\u001b[39;49m\u001b[38;5;124;43mmajor_dimension\u001b[39;49m\u001b[38;5;124;43m\"\u001b[39;49m\u001b[43m]\u001b[49m\u001b[43m}\u001b[49m\n\u001b[1;32m   1045\u001b[0m \u001b[43m    \u001b[49m\u001b[43m)\u001b[49m\u001b[43m,\u001b[49m\n\u001b[1;32m   1046\u001b[0m \u001b[43m\u001b[49m\u001b[43m)\u001b[49m\n\u001b[1;32m   1048\u001b[0m \u001b[38;5;28;01mreturn\u001b[39;00m response\n",
      "File \u001b[0;32m/opt/miniconda3/envs/torch/lib/python3.8/site-packages/gspread/spreadsheet.py:226\u001b[0m, in \u001b[0;36mSpreadsheet.values_update\u001b[0;34m(self, range, params, body)\u001b[0m\n\u001b[1;32m    203\u001b[0m \u001b[38;5;124;03m\"\"\"Lower-level method that directly calls `spreadsheets/<ID>/values/<range>`_.\u001b[39;00m\n\u001b[1;32m    204\u001b[0m \n\u001b[1;32m    205\u001b[0m \u001b[38;5;124;03m:param str range: The `A1 notation <https://developers.google.com/sheets/api/guides/concepts#a1_notation>`_ of the values to update.\u001b[39;00m\n\u001b[0;32m   (...)\u001b[0m\n\u001b[1;32m    223\u001b[0m \u001b[38;5;124;03m.. versionadded:: 3.0\u001b[39;00m\n\u001b[1;32m    224\u001b[0m \u001b[38;5;124;03m\"\"\"\u001b[39;00m\n\u001b[1;32m    225\u001b[0m url \u001b[38;5;241m=\u001b[39m SPREADSHEET_VALUES_URL \u001b[38;5;241m%\u001b[39m (\u001b[38;5;28mself\u001b[39m\u001b[38;5;241m.\u001b[39mid, quote(\u001b[38;5;28mrange\u001b[39m))\n\u001b[0;32m--> 226\u001b[0m r \u001b[38;5;241m=\u001b[39m \u001b[38;5;28;43mself\u001b[39;49m\u001b[38;5;241;43m.\u001b[39;49m\u001b[43mclient\u001b[49m\u001b[38;5;241;43m.\u001b[39;49m\u001b[43mrequest\u001b[49m\u001b[43m(\u001b[49m\u001b[38;5;124;43m\"\u001b[39;49m\u001b[38;5;124;43mput\u001b[39;49m\u001b[38;5;124;43m\"\u001b[39;49m\u001b[43m,\u001b[49m\u001b[43m \u001b[49m\u001b[43murl\u001b[49m\u001b[43m,\u001b[49m\u001b[43m \u001b[49m\u001b[43mparams\u001b[49m\u001b[38;5;241;43m=\u001b[39;49m\u001b[43mparams\u001b[49m\u001b[43m,\u001b[49m\u001b[43m \u001b[49m\u001b[43mjson\u001b[49m\u001b[38;5;241;43m=\u001b[39;49m\u001b[43mbody\u001b[49m\u001b[43m)\u001b[49m\n\u001b[1;32m    227\u001b[0m \u001b[38;5;28;01mreturn\u001b[39;00m r\u001b[38;5;241m.\u001b[39mjson()\n",
      "File \u001b[0;32m/opt/miniconda3/envs/torch/lib/python3.8/site-packages/gspread/client.py:92\u001b[0m, in \u001b[0;36mClient.request\u001b[0;34m(self, method, endpoint, params, data, json, files, headers)\u001b[0m\n\u001b[1;32m     90\u001b[0m     \u001b[38;5;28;01mreturn\u001b[39;00m response\n\u001b[1;32m     91\u001b[0m \u001b[38;5;28;01melse\u001b[39;00m:\n\u001b[0;32m---> 92\u001b[0m     \u001b[38;5;28;01mraise\u001b[39;00m APIError(response)\n",
      "\u001b[0;31mAPIError\u001b[0m: {'code': 400, 'message': 'Invalid values[1][3]: list_value {\\n  values {\\n    string_value: \"\\\\320\\\\237. \\\\320\\\\247\\\\320\\\\260\\\\320\\\\271\\\\320\\\\272\\\\320\\\\276\\\\320\\\\262\\\\321\\\\201\\\\320\\\\272\\\\320\\\\270\\\\320\\\\271 | \\\\320\\\\222\\\\320\\\\260\\\\320\\\\273\\\\321\\\\214\\\\321\\\\201 \\\\321\\\\206\\\\320\\\\262\\\\320\\\\265\\\\321\\\\202\\\\320\\\\276\\\\320\\\\262 \\\\320\\\\270\\\\320\\\\267 \\\\320\\\\261\\\\320\\\\260\\\\320\\\\273\\\\320\\\\265\\\\321\\\\202\\\\320\\\\260 \\\\302\\\\253\\\\320\\\\251\\\\320\\\\265\\\\320\\\\273\\\\320\\\\272\\\\321\\\\203\\\\320\\\\275\\\\321\\\\207\\\\320\\\\270\\\\320\\\\272\\\\302\\\\273\"\\n  }\\n  values {\\n    string_value: \"\\\\320\\\\237. \\\\320\\\\247\\\\320\\\\260\\\\320\\\\271\\\\320\\\\272\\\\320\\\\276\\\\320\\\\262\\\\321\\\\201\\\\320\\\\272\\\\320\\\\270\\\\320\\\\271 | \\\\320\\\\220\\\\321\\\\200\\\\320\\\\270\\\\320\\\\276\\\\320\\\\267\\\\320\\\\276 \\\\320\\\\233\\\\320\\\\265\\\\320\\\\275\\\\321\\\\201\\\\320\\\\272\\\\320\\\\276\\\\320\\\\263\\\\320\\\\276 \\\\320\\\\270\\\\320\\\\267 \\\\320\\\\276\\\\320\\\\277\\\\320\\\\265\\\\321\\\\200\\\\321\\\\213 \\\\302\\\\253\\\\320\\\\225\\\\320\\\\262\\\\320\\\\263\\\\320\\\\265\\\\320\\\\275\\\\320\\\\270\\\\320\\\\271 \\\\320\\\\236\\\\320\\\\275\\\\320\\\\265\\\\320\\\\263\\\\320\\\\270\\\\320\\\\275\\\\302\\\\273 (\\\\320\\\\220. \\\\320\\\\242\\\\320\\\\260\\\\321\\\\202\\\\320\\\\260\\\\321\\\\200\\\\320\\\\270\\\\320\\\\275\\\\321\\\\206\\\\320\\\\265\\\\320\\\\262)\"\\n  }\\n  values {\\n    string_value: \"\\\\320\\\\235. \\\\320\\\\240\\\\320\\\\270\\\\320\\\\274\\\\321\\\\201\\\\320\\\\272\\\\320\\\\270\\\\320\\\\271-\\\\320\\\\232\\\\320\\\\276\\\\321\\\\200\\\\321\\\\201\\\\320\\\\260\\\\320\\\\272\\\\320\\\\276\\\\320\\\\262 | \\\\320\\\\220\\\\321\\\\200\\\\320\\\\270\\\\321\\\\217 \\\\320\\\\233\\\\320\\\\265\\\\320\\\\262\\\\320\\\\272\\\\320\\\\276 \\\\320\\\\270\\\\320\\\\267 \\\\320\\\\276\\\\320\\\\277\\\\320\\\\265\\\\321\\\\200\\\\321\\\\213 \\\\302\\\\253\\\\320\\\\234\\\\320\\\\260\\\\320\\\\271\\\\321\\\\201\\\\320\\\\272\\\\320\\\\260\\\\321\\\\217 \\\\320\\\\275\\\\320\\\\276\\\\321\\\\207\\\\321\\\\214\\\\302\\\\273 (\\\\320\\\\220. \\\\320\\\\242\\\\320\\\\260\\\\321\\\\202\\\\320\\\\260\\\\321\\\\200\\\\320\\\\270\\\\320\\\\275\\\\321\\\\206\\\\320\\\\265\\\\320\\\\262)\"\\n  }\\n  values {\\n    string_value: \"\\\\320\\\\235. \\\\320\\\\240\\\\320\\\\270\\\\320\\\\274\\\\321\\\\201\\\\320\\\\272\\\\320\\\\270\\\\320\\\\271-\\\\320\\\\232\\\\320\\\\276\\\\321\\\\200\\\\321\\\\201\\\\320\\\\260\\\\320\\\\272\\\\320\\\\276\\\\320\\\\262 | \\\\320\\\\220\\\\321\\\\200\\\\320\\\\270\\\\321\\\\217 \\\\320\\\\223\\\\321\\\\200\\\\321\\\\217\\\\320\\\\267\\\\320\\\\275\\\\320\\\\276\\\\320\\\\263\\\\320\\\\276 \\\\320\\\\270\\\\320\\\\267 \\\\320\\\\276\\\\320\\\\277\\\\320\\\\265\\\\321\\\\200\\\\321\\\\213 \\\\302\\\\253\\\\320\\\\246\\\\320\\\\260\\\\321\\\\200\\\\321\\\\201\\\\320\\\\272\\\\320\\\\260\\\\321\\\\217 \\\\320\\\\275\\\\320\\\\265\\\\320\\\\262\\\\320\\\\265\\\\321\\\\201\\\\321\\\\202\\\\320\\\\260\\\\302\\\\273 (\\\\320\\\\222. \\\\320\\\\233\\\\320\\\\260\\\\320\\\\264\\\\321\\\\216\\\\320\\\\272)\"\\n  }\\n  values {\\n    string_value: \"\\\\320\\\\220. \\\\320\\\\221\\\\320\\\\276\\\\321\\\\200\\\\320\\\\276\\\\320\\\\264\\\\320\\\\270\\\\320\\\\275 | \\\\320\\\\232\\\\320\\\\260\\\\320\\\\262\\\\320\\\\260\\\\321\\\\202\\\\320\\\\270\\\\320\\\\275\\\\320\\\\260 \\\\320\\\\222\\\\320\\\\273\\\\320\\\\260\\\\320\\\\264\\\\320\\\\270\\\\320\\\\274\\\\320\\\\270\\\\321\\\\200\\\\320\\\\260 \\\\320\\\\230\\\\320\\\\263\\\\320\\\\276\\\\321\\\\200\\\\320\\\\265\\\\320\\\\262\\\\320\\\\270\\\\321\\\\207\\\\320\\\\260 \\\\320\\\\270\\\\320\\\\267 \\\\320\\\\276\\\\320\\\\277\\\\320\\\\265\\\\321\\\\200\\\\321\\\\213 \\\\302\\\\253\\\\320\\\\232\\\\320\\\\275\\\\321\\\\217\\\\320\\\\267\\\\321\\\\214 \\\\320\\\\230\\\\320\\\\263\\\\320\\\\276\\\\321\\\\200\\\\321\\\\214\\\\302\\\\273 (\\\\320\\\\220. \\\\320\\\\242\\\\320\\\\260\\\\321\\\\202\\\\320\\\\260\\\\321\\\\200\\\\320\\\\270\\\\320\\\\275\\\\321\\\\206\\\\320\\\\265\\\\320\\\\262)\"\\n  }\\n  values {\\n    string_value: \"\\\\320\\\\237. \\\\320\\\\247\\\\320\\\\260\\\\320\\\\271\\\\320\\\\272\\\\320\\\\276\\\\320\\\\262\\\\321\\\\201\\\\320\\\\272\\\\320\\\\270\\\\320\\\\271 | \\\\320\\\\237\\\\320\\\\260\\\\320\\\\275\\\\320\\\\276\\\\321\\\\200\\\\320\\\\260\\\\320\\\\274\\\\320\\\\260 \\\\320\\\\270\\\\320\\\\267 \\\\320\\\\261\\\\320\\\\260\\\\320\\\\273\\\\320\\\\265\\\\321\\\\202\\\\320\\\\260 \\\\302\\\\253\\\\320\\\\241\\\\320\\\\277\\\\321\\\\217\\\\321\\\\211\\\\320\\\\260\\\\321\\\\217 \\\\320\\\\272\\\\321\\\\200\\\\320\\\\260\\\\321\\\\201\\\\320\\\\260\\\\320\\\\262\\\\320\\\\270\\\\321\\\\206\\\\320\\\\260\\\\302\\\\273\"\\n  }\\n  values {\\n    string_value: \"\\\\320\\\\237. \\\\320\\\\247\\\\320\\\\260\\\\320\\\\271\\\\320\\\\272\\\\320\\\\276\\\\320\\\\262\\\\321\\\\201\\\\320\\\\272\\\\320\\\\270\\\\320\\\\271 | \\\\320\\\\220\\\\321\\\\200\\\\320\\\\270\\\\321\\\\217 \\\\320\\\\272\\\\320\\\\275\\\\321\\\\217\\\\320\\\\267\\\\321\\\\217 \\\\320\\\\225\\\\320\\\\273\\\\320\\\\265\\\\321\\\\206\\\\320\\\\272\\\\320\\\\276\\\\320\\\\263\\\\320\\\\276 \\\\320\\\\270\\\\320\\\\267 \\\\320\\\\276\\\\320\\\\277\\\\320\\\\265\\\\321\\\\200\\\\321\\\\213 \\\\302\\\\253\\\\320\\\\237\\\\320\\\\270\\\\320\\\\272\\\\320\\\\276\\\\320\\\\262\\\\320\\\\260\\\\321\\\\217 \\\\320\\\\264\\\\320\\\\260\\\\320\\\\274\\\\320\\\\260\\\\302\\\\273 (\\\\320\\\\222. \\\\320\\\\233\\\\320\\\\260\\\\320\\\\264\\\\321\\\\216\\\\320\\\\272)\"\\n  }\\n  values {\\n    string_value: \"\\\\320\\\\237. \\\\320\\\\247\\\\320\\\\260\\\\320\\\\271\\\\320\\\\272\\\\320\\\\276\\\\320\\\\262\\\\321\\\\201\\\\320\\\\272\\\\320\\\\270\\\\320\\\\271 | \\\\320\\\\220\\\\321\\\\200\\\\320\\\\270\\\\320\\\\276\\\\320\\\\267\\\\320\\\\276 \\\\320\\\\240\\\\320\\\\276\\\\320\\\\261\\\\320\\\\265\\\\321\\\\200\\\\321\\\\202\\\\320\\\\260 \\\\320\\\\270\\\\320\\\\267 \\\\320\\\\276\\\\320\\\\277\\\\320\\\\265\\\\321\\\\200\\\\321\\\\213 \\\\302\\\\253\\\\320\\\\230\\\\320\\\\276\\\\320\\\\273\\\\320\\\\260\\\\320\\\\275\\\\321\\\\202\\\\320\\\\260\\\\302\\\\273 (\\\\320\\\\222. \\\\320\\\\233\\\\320\\\\260\\\\320\\\\264\\\\321\\\\216\\\\320\\\\272)\"\\n  }\\n  values {\\n    string_value: \"\\\\320\\\\223. \\\\320\\\\241\\\\320\\\\262\\\\320\\\\270\\\\321\\\\200\\\\320\\\\270\\\\320\\\\264\\\\320\\\\276\\\\320\\\\262 | \\\\302\\\\253\\\\320\\\\222\\\\321\\\\200\\\\320\\\\265\\\\320\\\\274\\\\321\\\\217, \\\\320\\\\262\\\\320\\\\277\\\\320\\\\265\\\\321\\\\200\\\\320\\\\265\\\\320\\\\264!\\\\302\\\\273 (\\\\320\\\\240\\\\321\\\\203\\\\320\\\\274\\\\320\\\\261\\\\320\\\\260) \\\\320\\\\270\\\\320\\\\267 \\\\320\\\\274\\\\321\\\\203\\\\320\\\\267\\\\321\\\\213\\\\320\\\\272\\\\320\\\\270 \\\\320\\\\272 \\\\320\\\\276\\\\320\\\\264\\\\320\\\\275\\\\320\\\\276\\\\320\\\\270\\\\320\\\\274\\\\320\\\\265\\\\320\\\\275\\\\320\\\\275\\\\320\\\\276\\\\320\\\\274\\\\321\\\\203 \\\\320\\\\272\\\\320\\\\270\\\\320\\\\275\\\\320\\\\276\\\\321\\\\204\\\\320\\\\270\\\\320\\\\273\\\\321\\\\214\\\\320\\\\274\\\\321\\\\203\"\\n  }\\n  values {\\n    string_value: \"\\\\320\\\\223. \\\\320\\\\241\\\\320\\\\262\\\\320\\\\270\\\\321\\\\200\\\\320\\\\270\\\\320\\\\264\\\\320\\\\276\\\\320\\\\262 | \\\\320\\\\240\\\\320\\\\276\\\\320\\\\274\\\\320\\\\260\\\\320\\\\275\\\\321\\\\201 \\\\320\\\\270\\\\320\\\\267 \\\\320\\\\274\\\\321\\\\203\\\\320\\\\267\\\\321\\\\213\\\\320\\\\272\\\\320\\\\260\\\\320\\\\273\\\\321\\\\214\\\\320\\\\275\\\\321\\\\213\\\\321\\\\205 \\\\320\\\\270\\\\320\\\\273\\\\320\\\\273\\\\321\\\\216\\\\321\\\\201\\\\321\\\\202\\\\321\\\\200\\\\320\\\\260\\\\321\\\\206\\\\320\\\\270\\\\320\\\\271 \\\\320\\\\272 \\\\320\\\\277\\\\320\\\\276\\\\320\\\\262\\\\320\\\\265\\\\321\\\\201\\\\321\\\\202\\\\320\\\\270 \\\\320\\\\220. \\\\320\\\\237\\\\321\\\\203\\\\321\\\\210\\\\320\\\\272\\\\320\\\\270\\\\320\\\\275\\\\320\\\\260 \\\\302\\\\253\\\\320\\\\234\\\\320\\\\265\\\\321\\\\202\\\\320\\\\265\\\\320\\\\273\\\\321\\\\214\\\\302\\\\273\"\\n  }\\n  values {\\n    string_value: \"\\\\320\\\\220. \\\\320\\\\237\\\\320\\\\260\\\\321\\\\205\\\\320\\\\274\\\\321\\\\203\\\\321\\\\202\\\\320\\\\276\\\\320\\\\262\\\\320\\\\260 | \\\\302\\\\253\\\\320\\\\234\\\\320\\\\265\\\\320\\\\273\\\\320\\\\276\\\\320\\\\264\\\\320\\\\270\\\\321\\\\217\\\\302\\\\273 (\\\\320\\\\222. \\\\320\\\\233\\\\320\\\\260\\\\320\\\\264\\\\321\\\\216\\\\320\\\\272)\"\\n  }\\n  values {\\n    string_value: \"\\\\320\\\\220. \\\\320\\\\237\\\\320\\\\260\\\\321\\\\205\\\\320\\\\274\\\\321\\\\203\\\\321\\\\202\\\\320\\\\276\\\\320\\\\262\\\\320\\\\260 | \\\\302\\\\253\\\\320\\\\235\\\\320\\\\260\\\\320\\\\274 \\\\320\\\\275\\\\320\\\\265 \\\\320\\\\266\\\\320\\\\270\\\\321\\\\202\\\\321\\\\214 \\\\320\\\\264\\\\321\\\\200\\\\321\\\\203\\\\320\\\\263 \\\\320\\\\261\\\\320\\\\265\\\\320\\\\267 \\\\320\\\\264\\\\321\\\\200\\\\321\\\\203\\\\320\\\\263\\\\320\\\\260\\\\302\\\\273 (\\\\320\\\\222. \\\\320\\\\233\\\\320\\\\260\\\\320\\\\264\\\\321\\\\216\\\\320\\\\272)\"\\n  }\\n  values {\\n    string_value: \"\\\\320\\\\220. \\\\320\\\\237\\\\320\\\\260\\\\321\\\\205\\\\320\\\\274\\\\321\\\\203\\\\321\\\\202\\\\320\\\\276\\\\320\\\\262\\\\320\\\\260 | \\\\302\\\\253\\\\320\\\\221\\\\320\\\\265\\\\320\\\\273\\\\320\\\\276\\\\320\\\\262\\\\320\\\\265\\\\320\\\\266\\\\321\\\\201\\\\320\\\\272\\\\320\\\\260\\\\321\\\\217 \\\\320\\\\277\\\\321\\\\203\\\\321\\\\211\\\\320\\\\260\\\\302\\\\273 (\\\\320\\\\220. \\\\320\\\\242\\\\320\\\\260\\\\321\\\\202\\\\320\\\\260\\\\321\\\\200\\\\320\\\\270\\\\320\\\\275\\\\321\\\\206\\\\320\\\\265\\\\320\\\\262)\"\\n  }\\n  values {\\n    string_value: \"\\\\320\\\\220. \\\\320\\\\237\\\\320\\\\260\\\\321\\\\205\\\\320\\\\274\\\\321\\\\203\\\\321\\\\202\\\\320\\\\276\\\\320\\\\262\\\\320\\\\260 | \\\\302\\\\253\\\\320\\\\241\\\\321\\\\202\\\\320\\\\260\\\\321\\\\200\\\\321\\\\213\\\\320\\\\271 \\\\320\\\\272\\\\320\\\\273\\\\320\\\\265\\\\320\\\\275\\\\302\\\\273 (\\\\320\\\\220. \\\\320\\\\242\\\\320\\\\260\\\\321\\\\202\\\\320\\\\260\\\\321\\\\200\\\\320\\\\270\\\\320\\\\275\\\\321\\\\206\\\\320\\\\265\\\\320\\\\262)\"\\n  }\\n  values {\\n    string_value: \"\\\\320\\\\220. \\\\320\\\\237\\\\320\\\\260\\\\321\\\\205\\\\320\\\\274\\\\321\\\\203\\\\321\\\\202\\\\320\\\\276\\\\320\\\\262\\\\320\\\\260 | \\\\302\\\\253\\\\320\\\\232\\\\320\\\\260\\\\320\\\\272 \\\\320\\\\274\\\\320\\\\276\\\\320\\\\273\\\\320\\\\276\\\\320\\\\264\\\\321\\\\213 \\\\320\\\\274\\\\321\\\\213 \\\\320\\\\261\\\\321\\\\213\\\\320\\\\273\\\\320\\\\270\\\\302\\\\273 (\\\\320\\\\222. \\\\320\\\\233\\\\320\\\\260\\\\320\\\\264\\\\321\\\\216\\\\320\\\\272)\"\\n  }\\n  values {\\n    string_value: \"\\\\320\\\\220. \\\\320\\\\237\\\\320\\\\260\\\\321\\\\205\\\\320\\\\274\\\\321\\\\203\\\\321\\\\202\\\\320\\\\276\\\\320\\\\262\\\\320\\\\260 | \\\\302\\\\253\\\\320\\\\240\\\\321\\\\203\\\\321\\\\201\\\\321\\\\201\\\\320\\\\272\\\\320\\\\270\\\\320\\\\271 \\\\320\\\\262\\\\320\\\\260\\\\320\\\\273\\\\321\\\\214\\\\321\\\\201\\\\302\\\\273 (\\\\320\\\\222. \\\\320\\\\233\\\\320\\\\260\\\\320\\\\264\\\\321\\\\216\\\\320\\\\272)\"\\n  }\\n  values {\\n    string_value: \"\\\\320\\\\220. \\\\320\\\\237\\\\320\\\\260\\\\321\\\\205\\\\320\\\\274\\\\321\\\\203\\\\321\\\\202\\\\320\\\\276\\\\320\\\\262\\\\320\\\\260 | \\\\302\\\\253\\\\320\\\\235\\\\320\\\\260\\\\320\\\\264\\\\320\\\\265\\\\320\\\\266\\\\320\\\\264\\\\320\\\\260\\\\302\\\\273 (\\\\320\\\\220. \\\\320\\\\242\\\\320\\\\260\\\\321\\\\202\\\\320\\\\260\\\\321\\\\200\\\\320\\\\270\\\\320\\\\275\\\\321\\\\206\\\\320\\\\265\\\\320\\\\262, \\\\320\\\\222. \\\\320\\\\233\\\\320\\\\260\\\\320\\\\264\\\\321\\\\216\\\\320\\\\272)\"\\n  }\\n  values {\\n    string_value: \"\\\\320\\\\220. \\\\320\\\\237\\\\320\\\\260\\\\321\\\\205\\\\320\\\\274\\\\321\\\\203\\\\321\\\\202\\\\320\\\\276\\\\320\\\\262\\\\320\\\\260 | \\\\302\\\\253\\\\320\\\\232\\\\320\\\\276\\\\320\\\\274\\\\320\\\\260\\\\320\\\\275\\\\320\\\\264\\\\320\\\\260 \\\\320\\\\274\\\\320\\\\276\\\\320\\\\273\\\\320\\\\276\\\\320\\\\264\\\\320\\\\276\\\\321\\\\201\\\\321\\\\202\\\\320\\\\270 \\\\320\\\\275\\\\320\\\\260\\\\321\\\\210\\\\320\\\\265\\\\320\\\\271\\\\302\\\\273 (\\\\320\\\\220. \\\\320\\\\242\\\\320\\\\260\\\\321\\\\202\\\\320\\\\260\\\\321\\\\200\\\\320\\\\270\\\\320\\\\275\\\\321\\\\206\\\\320\\\\265\\\\320\\\\262, \\\\320\\\\222. \\\\320\\\\233\\\\320\\\\260\\\\320\\\\264\\\\321\\\\216\\\\320\\\\272)\"\\n  }\\n  values {\\n    string_value: \"\\\\320\\\\241\\\\320\\\\276\\\\320\\\\273\\\\320\\\\270\\\\321\\\\201\\\\321\\\\202\\\\321\\\\213\"\\n  }\\n  values {\\n    string_value: \"\\\\320\\\\220\\\\320\\\\273\\\\320\\\\265\\\\320\\\\272\\\\321\\\\201\\\\320\\\\265\\\\320\\\\271 \\\\320\\\\242\\\\320\\\\260\\\\321\\\\202\\\\320\\\\260\\\\321\\\\200\\\\320\\\\270\\\\320\\\\275\\\\321\\\\206\\\\320\\\\265\\\\320\\\\262 | \\\\321\\\\202\\\\320\\\\265\\\\320\\\\275\\\\320\\\\276\\\\321\\\\200\"\\n  }\\n  values {\\n    string_value: \"\\\\320\\\\222\\\\320\\\\260\\\\321\\\\201\\\\320\\\\270\\\\320\\\\273\\\\320\\\\270\\\\320\\\\271 \\\\320\\\\233\\\\320\\\\260\\\\320\\\\264\\\\321\\\\216\\\\320\\\\272 | \\\\320\\\\261\\\\320\\\\260\\\\321\\\\200\\\\320\\\\270\\\\321\\\\202\\\\320\\\\276\\\\320\\\\275\"\\n  }\\n  values {\\n    string_value: \"\\\\320\\\\224\\\\320\\\\270\\\\321\\\\200\\\\320\\\\270\\\\320\\\\266\\\\320\\\\265\\\\321\\\\200 | \\\\320\\\\222\\\\320\\\\273\\\\320\\\\260\\\\320\\\\264\\\\320\\\\270\\\\320\\\\274\\\\320\\\\270\\\\321\\\\200 \\\\320\\\\244\\\\320\\\\265\\\\320\\\\264\\\\320\\\\276\\\\321\\\\201\\\\320\\\\265\\\\320\\\\265\\\\320\\\\262\"\\n  }\\n}\\n', 'status': 'INVALID_ARGUMENT'}"
     ]
    }
   ],
   "source": [
    "gspread."
   ]
  },
  {
   "cell_type": "code",
   "execution_count": 140,
   "id": "a1d49855",
   "metadata": {
    "ExecuteTime": {
     "end_time": "2022-11-26T12:40:35.428823Z",
     "start_time": "2022-11-26T12:40:35.423274Z"
    }
   },
   "outputs": [],
   "source": [
    "test_list = ['П. Чайковский | Вальс цветов из балета «Щелкунчик»',\n",
    " 'П. Чайковский | Ариозо Ленского из оперы «Евгений Онегин» (А. Татаринцев)',\n",
    " 'Н. Римский-Корсаков | Ария Левко из оперы «Майская ночь» (А. Татаринцев)',\n",
    " 'Н. Римский-Корсаков | Ария Грязного из оперы «Царская невеста» (В. Ладюк)',\n",
    " 'А. Бородин | Каватина Владимира Игоревича из оперы «Князь Игорь» (А. Татаринцев)',\n",
    " 'П. Чайковский | Панорама из балета «Спящая красавица»',\n",
    " 'П. Чайковский | Ария князя Елецкого из оперы «Пиковая дама» (В. Ладюк)',\n",
    " 'П. Чайковский | Ариозо Роберта из оперы «Иоланта» (В. Ладюк)',\n",
    " 'Г. Свиридов | «Время, вперед!» (Румба) из музыки к одноименному кинофильму',\n",
    " 'Г. Свиридов | Романс из музыкальных иллюстраций к повести А. Пушкина «Метель»',\n",
    " 'А. Пахмутова | «Мелодия» (В. Ладюк)',\n",
    " 'А. Пахмутова | «Нам не жить друг без друга» (В. Ладюк)',\n",
    " 'А. Пахмутова | «Беловежская пуща» (А. Татаринцев)',\n",
    " 'А. Пахмутова | «Старый клен» (А. Татаринцев)',\n",
    " 'А. Пахмутова | «Как молоды мы были» (В. Ладюк)',\n",
    " 'А. Пахмутова | «Русский вальс» (В. Ладюк)',\n",
    " 'А. Пахмутова | «Надежда» (А. Татаринцев, В. Ладюк)',\n",
    " 'А. Пахмутова | «Команда молодости нашей» (А. Татаринцев, В. Ладюк)',\n",
    " 'Солисты',\n",
    " 'Алексей Татаринцев | тенор',\n",
    " 'Василий Ладюк | баритон',\n",
    " 'Дирижер | Владимир Федосеев']"
   ]
  },
  {
   "cell_type": "code",
   "execution_count": 148,
   "id": "be6ca6d6",
   "metadata": {
    "ExecuteTime": {
     "end_time": "2022-11-26T12:42:23.952012Z",
     "start_time": "2022-11-26T12:42:23.939658Z"
    }
   },
   "outputs": [
    {
     "data": {
      "text/plain": [
       "('П. Чайковский | Вальс цветов из балета «Щелкунчик»',\n",
       " 'П. Чайковский | Ариозо Ленского из оперы «Евгений Онегин» (А. Татаринцев)',\n",
       " 'Н. Римский-Корсаков | Ария Левко из оперы «Майская ночь» (А. Татаринцев)',\n",
       " 'Н. Римский-Корсаков | Ария Грязного из оперы «Царская невеста» (В. Ладюк)',\n",
       " 'А. Бородин | Каватина Владимира Игоревича из оперы «Князь Игорь» (А. Татаринцев)',\n",
       " 'П. Чайковский | Панорама из балета «Спящая красавица»',\n",
       " 'П. Чайковский | Ария князя Елецкого из оперы «Пиковая дама» (В. Ладюк)',\n",
       " 'П. Чайковский | Ариозо Роберта из оперы «Иоланта» (В. Ладюк)',\n",
       " 'Г. Свиридов | «Время, вперед!» (Румба) из музыки к одноименному кинофильму',\n",
       " 'Г. Свиридов | Романс из музыкальных иллюстраций к повести А. Пушкина «Метель»',\n",
       " 'А. Пахмутова | «Мелодия» (В. Ладюк)',\n",
       " 'А. Пахмутова | «Нам не жить друг без друга» (В. Ладюк)',\n",
       " 'А. Пахмутова | «Беловежская пуща» (А. Татаринцев)',\n",
       " 'А. Пахмутова | «Старый клен» (А. Татаринцев)',\n",
       " 'А. Пахмутова | «Как молоды мы были» (В. Ладюк)',\n",
       " 'А. Пахмутова | «Русский вальс» (В. Ладюк)',\n",
       " 'А. Пахмутова | «Надежда» (А. Татаринцев, В. Ладюк)',\n",
       " 'А. Пахмутова | «Команда молодости нашей» (А. Татаринцев, В. Ладюк)',\n",
       " 'Солисты',\n",
       " 'Алексей Татаринцев | тенор',\n",
       " 'Василий Ладюк | баритон',\n",
       " 'Дирижер | Владимир Федосеев')"
      ]
     },
     "execution_count": 148,
     "metadata": {},
     "output_type": "execute_result"
    }
   ],
   "source": [
    "tuple(i for i in test_list)"
   ]
  },
  {
   "cell_type": "code",
   "execution_count": 138,
   "id": "ea334c2a",
   "metadata": {
    "ExecuteTime": {
     "end_time": "2022-11-26T12:40:18.874733Z",
     "start_time": "2022-11-26T12:40:18.862311Z"
    }
   },
   "outputs": [
    {
     "data": {
      "text/plain": [
       "['П. Чайковский | Вальс цветов из балета «Щелкунчик»',\n",
       " 'П. Чайковский | Ариозо Ленского из оперы «Евгений Онегин» (А. Татаринцев)',\n",
       " 'Н. Римский-Корсаков | Ария Левко из оперы «Майская ночь» (А. Татаринцев)',\n",
       " 'Н. Римский-Корсаков | Ария Грязного из оперы «Царская невеста» (В. Ладюк)',\n",
       " 'А. Бородин | Каватина Владимира Игоревича из оперы «Князь Игорь» (А. Татаринцев)',\n",
       " 'П. Чайковский | Панорама из балета «Спящая красавица»',\n",
       " 'П. Чайковский | Ария князя Елецкого из оперы «Пиковая дама» (В. Ладюк)',\n",
       " 'П. Чайковский | Ариозо Роберта из оперы «Иоланта» (В. Ладюк)',\n",
       " 'Г. Свиридов | «Время, вперед!» (Румба) из музыки к одноименному кинофильму',\n",
       " 'Г. Свиридов | Романс из музыкальных иллюстраций к повести А. Пушкина «Метель»',\n",
       " 'А. Пахмутова | «Мелодия» (В. Ладюк)',\n",
       " 'А. Пахмутова | «Нам не жить друг без друга» (В. Ладюк)',\n",
       " 'А. Пахмутова | «Беловежская пуща» (А. Татаринцев)',\n",
       " 'А. Пахмутова | «Старый клен» (А. Татаринцев)',\n",
       " 'А. Пахмутова | «Как молоды мы были» (В. Ладюк)',\n",
       " 'А. Пахмутова | «Русский вальс» (В. Ладюк)',\n",
       " 'А. Пахмутова | «Надежда» (А. Татаринцев, В. Ладюк)',\n",
       " 'А. Пахмутова | «Команда молодости нашей» (А. Татаринцев, В. Ладюк)',\n",
       " 'Солисты',\n",
       " 'Алексей Татаринцев | тенор',\n",
       " 'Василий Ладюк | баритон',\n",
       " 'Дирижер | Владимир Федосеев']"
      ]
     },
     "execution_count": 138,
     "metadata": {},
     "output_type": "execute_result"
    }
   ],
   "source": [
    "parsed_df.iloc[0]['program']"
   ]
  },
  {
   "cell_type": "code",
   "execution_count": 123,
   "id": "078e69c3",
   "metadata": {
    "ExecuteTime": {
     "end_time": "2022-11-26T12:24:51.051636Z",
     "start_time": "2022-11-26T12:24:49.226676Z"
    }
   },
   "outputs": [],
   "source": [
    "upload_to_gs(parsed_df)"
   ]
  },
  {
   "cell_type": "code",
   "execution_count": null,
   "id": "68a8a06f",
   "metadata": {},
   "outputs": [],
   "source": [
    "[','.join(map(str, l)) for l in df['lists']]"
   ]
  },
  {
   "cell_type": "code",
   "execution_count": 105,
   "id": "9b2c27b3",
   "metadata": {
    "ExecuteTime": {
     "end_time": "2022-11-26T12:18:58.051833Z",
     "start_time": "2022-11-26T12:18:58.040969Z"
    }
   },
   "outputs": [
    {
     "data": {
      "text/plain": [
       "['П. Чайковский | Вальс цветов из балета «Щелкунчик»П. Чайковский | Ариозо Ленского из оперы «Евгений Онегин» (А. Татаринцев)Н. Римский-Корсаков | Ария Левко из оперы «Майская ночь» (А. Татаринцев)Н. Римский-Корсаков | Ария Грязного из оперы «Царская невеста» (В. Ладюк)А. Бородин | Каватина Владимира Игоревича из оперы «Князь Игорь» (А. Татаринцев)П. Чайковский | Панорама из балета «Спящая красавица»П. Чайковский | Ария князя Елецкого из оперы «Пиковая дама» (В. Ладюк)П. Чайковский | Ариозо Роберта из оперы «Иоланта» (В. Ладюк)Г. Свиридов | «Время, вперед!» (Румба) из музыки к одноименному кинофильмуГ. Свиридов | Романс из музыкальных иллюстраций к повести А. Пушкина «Метель»А. Пахмутова | «Мелодия» (В. Ладюк)А. Пахмутова | «Нам не жить друг без друга» (В. Ладюк)А. Пахмутова | «Беловежская пуща» (А. Татаринцев)А. Пахмутова | «Старый клен» (А. Татаринцев)А. Пахмутова | «Как молоды мы были» (В. Ладюк)А. Пахмутова | «Русский вальс» (В. Ладюк)А. Пахмутова | «Надежда» (А. Татаринцев, В. Ладюк)А. Пахмутова | «Команда молодости нашей» (А. Татаринцев, В. Ладюк)СолистыАлексей Татаринцев | тенорВасилий Ладюк | баритонДирижер | Владимир Федосеев',\n",
       " 'Г. Свиридов | «Метель», музыкальные иллюстрации к повести А. ПушкинаН. Римский-Корсаков | «Шехеразада», симфоническая сюитаДирижер | Владимир Федосеев',\n",
       " 'С. Прокофьев | Сюита из балета «Ромео и Джульетта»П. Чайковский | Сюита из балета «Спящая красавица»Дирижер | Владимир Федосеев']"
      ]
     },
     "execution_count": 105,
     "metadata": {},
     "output_type": "execute_result"
    }
   ],
   "source": [
    "[''.join(map(str, l)) for l in parsed_df['program']]"
   ]
  },
  {
   "cell_type": "code",
   "execution_count": 93,
   "id": "6d6d6f1b",
   "metadata": {
    "ExecuteTime": {
     "end_time": "2022-11-26T12:13:24.505989Z",
     "start_time": "2022-11-26T12:13:22.777529Z"
    }
   },
   "outputs": [],
   "source": [
    "upload_to_gs(parsed_df.drop(columns='program'))"
   ]
  },
  {
   "cell_type": "code",
   "execution_count": 81,
   "id": "6daed912",
   "metadata": {
    "ExecuteTime": {
     "end_time": "2022-11-26T12:05:28.156538Z",
     "start_time": "2022-11-26T12:05:28.143054Z"
    }
   },
   "outputs": [
    {
     "name": "stdout",
     "output_type": "stream",
     "text": [
      "<class 'pandas.core.frame.DataFrame'>\n",
      "RangeIndex: 3 entries, 0 to 2\n",
      "Data columns (total 12 columns):\n",
      " #   Column              Non-Null Count  Dtype \n",
      "---  ------              --------------  ----- \n",
      " 0   title               3 non-null      object\n",
      " 1   place               3 non-null      object\n",
      " 2   dt                  3 non-null      object\n",
      " 3   program             3 non-null      object\n",
      " 4   n_rehersals         3 non-null      int64 \n",
      " 5   principal           3 non-null      bool  \n",
      " 6   co-principal        3 non-null      bool  \n",
      " 7   second              3 non-null      bool  \n",
      " 8   contra              3 non-null      bool  \n",
      " 9   russia_tour         3 non-null      bool  \n",
      " 10  international_tour  3 non-null      bool  \n",
      " 11  url                 3 non-null      object\n",
      "dtypes: bool(6), int64(1), object(5)\n",
      "memory usage: 290.0+ bytes\n"
     ]
    }
   ],
   "source": [
    "parsed_df.info()"
   ]
  },
  {
   "cell_type": "code",
   "execution_count": 42,
   "id": "aabfdf53-b440-4f0c-a278-f70cc2e2323d",
   "metadata": {
    "ExecuteTime": {
     "end_time": "2022-11-23T21:11:58.153321Z",
     "start_time": "2022-11-23T21:11:58.141055Z"
    }
   },
   "outputs": [],
   "source": [
    "to_upload_df = pd.concat([parsed_df, sync_df]).sort_values('dt')"
   ]
  },
  {
   "cell_type": "code",
   "execution_count": 63,
   "id": "afd83a88-2489-4427-8b17-883517960cd8",
   "metadata": {
    "ExecuteTime": {
     "end_time": "2022-11-26T11:54:35.073639Z",
     "start_time": "2022-11-26T11:54:35.064580Z"
    }
   },
   "outputs": [],
   "source": []
  },
  {
   "cell_type": "code",
   "execution_count": 76,
   "id": "7f4ec34c",
   "metadata": {
    "ExecuteTime": {
     "end_time": "2022-11-26T12:03:31.770320Z",
     "start_time": "2022-11-26T12:03:31.751504Z"
    }
   },
   "outputs": [
    {
     "name": "stdout",
     "output_type": "stream",
     "text": [
      "<class 'pandas.core.frame.DataFrame'>\n",
      "RangeIndex: 3 entries, 0 to 2\n",
      "Data columns (total 12 columns):\n",
      " #   Column              Non-Null Count  Dtype \n",
      "---  ------              --------------  ----- \n",
      " 0   title               3 non-null      object\n",
      " 1   place               3 non-null      object\n",
      " 2   dt                  3 non-null      object\n",
      " 3   program             3 non-null      object\n",
      " 4   n_rehersals         3 non-null      int64 \n",
      " 5   principal           3 non-null      bool  \n",
      " 6   co-principal        3 non-null      bool  \n",
      " 7   second              3 non-null      bool  \n",
      " 8   contra              3 non-null      bool  \n",
      " 9   russia_tour         3 non-null      bool  \n",
      " 10  international_tour  3 non-null      bool  \n",
      " 11  url                 3 non-null      object\n",
      "dtypes: bool(6), int64(1), object(5)\n",
      "memory usage: 290.0+ bytes\n"
     ]
    }
   ],
   "source": [
    "parsed_df.info()"
   ]
  },
  {
   "cell_type": "code",
   "execution_count": 82,
   "id": "9ce3fdf6",
   "metadata": {
    "ExecuteTime": {
     "end_time": "2022-11-26T12:05:41.286220Z",
     "start_time": "2022-11-26T12:05:39.590630Z"
    }
   },
   "outputs": [],
   "source": [
    "upload_to_gs(\n",
    "    parsed_df)"
   ]
  },
  {
   "cell_type": "code",
   "execution_count": 382,
   "id": "ea47d80b-3a33-42dc-8a07-d53189d93c33",
   "metadata": {},
   "outputs": [
    {
     "name": "stdout",
     "output_type": "stream",
     "text": [
      "<class 'pandas.core.frame.DataFrame'>\n",
      "RangeIndex: 3 entries, 0 to 2\n",
      "Data columns (total 11 columns):\n",
      " #   Column              Non-Null Count  Dtype         \n",
      "---  ------              --------------  -----         \n",
      " 0   title               3 non-null      object        \n",
      " 1   place               3 non-null      object        \n",
      " 2   dt                  3 non-null      datetime64[ns]\n",
      " 3   program             3 non-null      object        \n",
      " 4   n_rehersals         3 non-null      int64         \n",
      " 5   principal           3 non-null      bool          \n",
      " 6   co-principal        3 non-null      bool          \n",
      " 7   second              3 non-null      bool          \n",
      " 8   contra              3 non-null      bool          \n",
      " 9   russia_tour         3 non-null      bool          \n",
      " 10  international_tour  3 non-null      bool          \n",
      "dtypes: bool(6), datetime64[ns](1), int64(1), object(3)\n",
      "memory usage: 266.0+ bytes\n"
     ]
    }
   ],
   "source": [
    "sync_df.info()"
   ]
  },
  {
   "cell_type": "code",
   "execution_count": 381,
   "id": "f3993095-dc42-49a9-86f4-65f6ef1c385a",
   "metadata": {},
   "outputs": [
    {
     "name": "stdout",
     "output_type": "stream",
     "text": [
      "<class 'pandas.core.frame.DataFrame'>\n",
      "RangeIndex: 6 entries, 0 to 5\n",
      "Data columns (total 11 columns):\n",
      " #   Column              Non-Null Count  Dtype         \n",
      "---  ------              --------------  -----         \n",
      " 0   title               6 non-null      object        \n",
      " 1   place               6 non-null      object        \n",
      " 2   dt                  6 non-null      datetime64[ns]\n",
      " 3   program             6 non-null      object        \n",
      " 4   n_rehersals         6 non-null      int64         \n",
      " 5   principal           6 non-null      bool          \n",
      " 6   co-principal        6 non-null      bool          \n",
      " 7   second              6 non-null      bool          \n",
      " 8   contra              6 non-null      bool          \n",
      " 9   russia_tour         6 non-null      bool          \n",
      " 10  international_tour  6 non-null      bool          \n",
      "dtypes: bool(6), datetime64[ns](1), int64(1), object(3)\n",
      "memory usage: 404.0+ bytes\n"
     ]
    }
   ],
   "source": [
    "concerts_df.info()"
   ]
  },
  {
   "cell_type": "code",
   "execution_count": 379,
   "id": "4052a5a5-0ea9-4ec3-86df-cf047131c556",
   "metadata": {},
   "outputs": [
    {
     "ename": "ValueError",
     "evalue": "You are trying to merge on object and int64 columns. If you wish to proceed you should use pd.concat",
     "output_type": "error",
     "traceback": [
      "\u001b[0;31m---------------------------------------------------------------------------\u001b[0m",
      "\u001b[0;31mValueError\u001b[0m                                Traceback (most recent call last)",
      "Cell \u001b[0;32mIn [379], line 1\u001b[0m\n\u001b[0;32m----> 1\u001b[0m \u001b[43msync_df\u001b[49m\u001b[38;5;241;43m.\u001b[39;49m\u001b[43mjoin\u001b[49m\u001b[43m(\u001b[49m\u001b[43mconcerts_df\u001b[49m\u001b[43m,\u001b[49m\u001b[43m \u001b[49m\u001b[43mhow\u001b[49m\u001b[38;5;241;43m=\u001b[39;49m\u001b[38;5;124;43m'\u001b[39;49m\u001b[38;5;124;43mouter\u001b[39;49m\u001b[38;5;124;43m'\u001b[39;49m\u001b[43m,\u001b[49m\u001b[43m \u001b[49m\u001b[43mon\u001b[49m\u001b[38;5;241;43m=\u001b[39;49m\u001b[38;5;124;43m'\u001b[39;49m\u001b[38;5;124;43mtitle\u001b[39;49m\u001b[38;5;124;43m'\u001b[39;49m\u001b[43m)\u001b[49m\n",
      "File \u001b[0;32m/opt/miniconda3/envs/torch/lib/python3.8/site-packages/pandas/core/frame.py:9263\u001b[0m, in \u001b[0;36mDataFrame.join\u001b[0;34m(self, other, on, how, lsuffix, rsuffix, sort)\u001b[0m\n\u001b[1;32m   9109\u001b[0m \u001b[38;5;28;01mdef\u001b[39;00m \u001b[38;5;21mjoin\u001b[39m(\n\u001b[1;32m   9110\u001b[0m     \u001b[38;5;28mself\u001b[39m,\n\u001b[1;32m   9111\u001b[0m     other: DataFrame \u001b[38;5;241m|\u001b[39m Series,\n\u001b[0;32m   (...)\u001b[0m\n\u001b[1;32m   9116\u001b[0m     sort: \u001b[38;5;28mbool\u001b[39m \u001b[38;5;241m=\u001b[39m \u001b[38;5;28;01mFalse\u001b[39;00m,\n\u001b[1;32m   9117\u001b[0m ) \u001b[38;5;241m-\u001b[39m\u001b[38;5;241m>\u001b[39m DataFrame:\n\u001b[1;32m   9118\u001b[0m     \u001b[38;5;124;03m\"\"\"\u001b[39;00m\n\u001b[1;32m   9119\u001b[0m \u001b[38;5;124;03m    Join columns of another DataFrame.\u001b[39;00m\n\u001b[1;32m   9120\u001b[0m \n\u001b[0;32m   (...)\u001b[0m\n\u001b[1;32m   9261\u001b[0m \u001b[38;5;124;03m    5  K1  A5   B1\u001b[39;00m\n\u001b[1;32m   9262\u001b[0m \u001b[38;5;124;03m    \"\"\"\u001b[39;00m\n\u001b[0;32m-> 9263\u001b[0m     \u001b[38;5;28;01mreturn\u001b[39;00m \u001b[38;5;28;43mself\u001b[39;49m\u001b[38;5;241;43m.\u001b[39;49m\u001b[43m_join_compat\u001b[49m\u001b[43m(\u001b[49m\n\u001b[1;32m   9264\u001b[0m \u001b[43m        \u001b[49m\u001b[43mother\u001b[49m\u001b[43m,\u001b[49m\u001b[43m \u001b[49m\u001b[43mon\u001b[49m\u001b[38;5;241;43m=\u001b[39;49m\u001b[43mon\u001b[49m\u001b[43m,\u001b[49m\u001b[43m \u001b[49m\u001b[43mhow\u001b[49m\u001b[38;5;241;43m=\u001b[39;49m\u001b[43mhow\u001b[49m\u001b[43m,\u001b[49m\u001b[43m \u001b[49m\u001b[43mlsuffix\u001b[49m\u001b[38;5;241;43m=\u001b[39;49m\u001b[43mlsuffix\u001b[49m\u001b[43m,\u001b[49m\u001b[43m \u001b[49m\u001b[43mrsuffix\u001b[49m\u001b[38;5;241;43m=\u001b[39;49m\u001b[43mrsuffix\u001b[49m\u001b[43m,\u001b[49m\u001b[43m \u001b[49m\u001b[43msort\u001b[49m\u001b[38;5;241;43m=\u001b[39;49m\u001b[43msort\u001b[49m\n\u001b[1;32m   9265\u001b[0m \u001b[43m    \u001b[49m\u001b[43m)\u001b[49m\n",
      "File \u001b[0;32m/opt/miniconda3/envs/torch/lib/python3.8/site-packages/pandas/core/frame.py:9294\u001b[0m, in \u001b[0;36mDataFrame._join_compat\u001b[0;34m(self, other, on, how, lsuffix, rsuffix, sort)\u001b[0m\n\u001b[1;32m   9285\u001b[0m     \u001b[38;5;28;01mif\u001b[39;00m how \u001b[38;5;241m==\u001b[39m \u001b[38;5;124m\"\u001b[39m\u001b[38;5;124mcross\u001b[39m\u001b[38;5;124m\"\u001b[39m:\n\u001b[1;32m   9286\u001b[0m         \u001b[38;5;28;01mreturn\u001b[39;00m merge(\n\u001b[1;32m   9287\u001b[0m             \u001b[38;5;28mself\u001b[39m,\n\u001b[1;32m   9288\u001b[0m             other,\n\u001b[0;32m   (...)\u001b[0m\n\u001b[1;32m   9292\u001b[0m             sort\u001b[38;5;241m=\u001b[39msort,\n\u001b[1;32m   9293\u001b[0m         )\n\u001b[0;32m-> 9294\u001b[0m     \u001b[38;5;28;01mreturn\u001b[39;00m \u001b[43mmerge\u001b[49m\u001b[43m(\u001b[49m\n\u001b[1;32m   9295\u001b[0m \u001b[43m        \u001b[49m\u001b[38;5;28;43mself\u001b[39;49m\u001b[43m,\u001b[49m\n\u001b[1;32m   9296\u001b[0m \u001b[43m        \u001b[49m\u001b[43mother\u001b[49m\u001b[43m,\u001b[49m\n\u001b[1;32m   9297\u001b[0m \u001b[43m        \u001b[49m\u001b[43mleft_on\u001b[49m\u001b[38;5;241;43m=\u001b[39;49m\u001b[43mon\u001b[49m\u001b[43m,\u001b[49m\n\u001b[1;32m   9298\u001b[0m \u001b[43m        \u001b[49m\u001b[43mhow\u001b[49m\u001b[38;5;241;43m=\u001b[39;49m\u001b[43mhow\u001b[49m\u001b[43m,\u001b[49m\n\u001b[1;32m   9299\u001b[0m \u001b[43m        \u001b[49m\u001b[43mleft_index\u001b[49m\u001b[38;5;241;43m=\u001b[39;49m\u001b[43mon\u001b[49m\u001b[43m \u001b[49m\u001b[38;5;129;43;01mis\u001b[39;49;00m\u001b[43m \u001b[49m\u001b[38;5;28;43;01mNone\u001b[39;49;00m\u001b[43m,\u001b[49m\n\u001b[1;32m   9300\u001b[0m \u001b[43m        \u001b[49m\u001b[43mright_index\u001b[49m\u001b[38;5;241;43m=\u001b[39;49m\u001b[38;5;28;43;01mTrue\u001b[39;49;00m\u001b[43m,\u001b[49m\n\u001b[1;32m   9301\u001b[0m \u001b[43m        \u001b[49m\u001b[43msuffixes\u001b[49m\u001b[38;5;241;43m=\u001b[39;49m\u001b[43m(\u001b[49m\u001b[43mlsuffix\u001b[49m\u001b[43m,\u001b[49m\u001b[43m \u001b[49m\u001b[43mrsuffix\u001b[49m\u001b[43m)\u001b[49m\u001b[43m,\u001b[49m\n\u001b[1;32m   9302\u001b[0m \u001b[43m        \u001b[49m\u001b[43msort\u001b[49m\u001b[38;5;241;43m=\u001b[39;49m\u001b[43msort\u001b[49m\u001b[43m,\u001b[49m\n\u001b[1;32m   9303\u001b[0m \u001b[43m    \u001b[49m\u001b[43m)\u001b[49m\n\u001b[1;32m   9304\u001b[0m \u001b[38;5;28;01melse\u001b[39;00m:\n\u001b[1;32m   9305\u001b[0m     \u001b[38;5;28;01mif\u001b[39;00m on \u001b[38;5;129;01mis\u001b[39;00m \u001b[38;5;129;01mnot\u001b[39;00m \u001b[38;5;28;01mNone\u001b[39;00m:\n",
      "File \u001b[0;32m/opt/miniconda3/envs/torch/lib/python3.8/site-packages/pandas/core/reshape/merge.py:107\u001b[0m, in \u001b[0;36mmerge\u001b[0;34m(left, right, how, on, left_on, right_on, left_index, right_index, sort, suffixes, copy, indicator, validate)\u001b[0m\n\u001b[1;32m     90\u001b[0m \u001b[38;5;129m@Substitution\u001b[39m(\u001b[38;5;124m\"\u001b[39m\u001b[38;5;130;01m\\n\u001b[39;00m\u001b[38;5;124mleft : DataFrame or named Series\u001b[39m\u001b[38;5;124m\"\u001b[39m)\n\u001b[1;32m     91\u001b[0m \u001b[38;5;129m@Appender\u001b[39m(_merge_doc, indents\u001b[38;5;241m=\u001b[39m\u001b[38;5;241m0\u001b[39m)\n\u001b[1;32m     92\u001b[0m \u001b[38;5;28;01mdef\u001b[39;00m \u001b[38;5;21mmerge\u001b[39m(\n\u001b[0;32m   (...)\u001b[0m\n\u001b[1;32m    105\u001b[0m     validate: \u001b[38;5;28mstr\u001b[39m \u001b[38;5;241m|\u001b[39m \u001b[38;5;28;01mNone\u001b[39;00m \u001b[38;5;241m=\u001b[39m \u001b[38;5;28;01mNone\u001b[39;00m,\n\u001b[1;32m    106\u001b[0m ) \u001b[38;5;241m-\u001b[39m\u001b[38;5;241m>\u001b[39m DataFrame:\n\u001b[0;32m--> 107\u001b[0m     op \u001b[38;5;241m=\u001b[39m \u001b[43m_MergeOperation\u001b[49m\u001b[43m(\u001b[49m\n\u001b[1;32m    108\u001b[0m \u001b[43m        \u001b[49m\u001b[43mleft\u001b[49m\u001b[43m,\u001b[49m\n\u001b[1;32m    109\u001b[0m \u001b[43m        \u001b[49m\u001b[43mright\u001b[49m\u001b[43m,\u001b[49m\n\u001b[1;32m    110\u001b[0m \u001b[43m        \u001b[49m\u001b[43mhow\u001b[49m\u001b[38;5;241;43m=\u001b[39;49m\u001b[43mhow\u001b[49m\u001b[43m,\u001b[49m\n\u001b[1;32m    111\u001b[0m \u001b[43m        \u001b[49m\u001b[43mon\u001b[49m\u001b[38;5;241;43m=\u001b[39;49m\u001b[43mon\u001b[49m\u001b[43m,\u001b[49m\n\u001b[1;32m    112\u001b[0m \u001b[43m        \u001b[49m\u001b[43mleft_on\u001b[49m\u001b[38;5;241;43m=\u001b[39;49m\u001b[43mleft_on\u001b[49m\u001b[43m,\u001b[49m\n\u001b[1;32m    113\u001b[0m \u001b[43m        \u001b[49m\u001b[43mright_on\u001b[49m\u001b[38;5;241;43m=\u001b[39;49m\u001b[43mright_on\u001b[49m\u001b[43m,\u001b[49m\n\u001b[1;32m    114\u001b[0m \u001b[43m        \u001b[49m\u001b[43mleft_index\u001b[49m\u001b[38;5;241;43m=\u001b[39;49m\u001b[43mleft_index\u001b[49m\u001b[43m,\u001b[49m\n\u001b[1;32m    115\u001b[0m \u001b[43m        \u001b[49m\u001b[43mright_index\u001b[49m\u001b[38;5;241;43m=\u001b[39;49m\u001b[43mright_index\u001b[49m\u001b[43m,\u001b[49m\n\u001b[1;32m    116\u001b[0m \u001b[43m        \u001b[49m\u001b[43msort\u001b[49m\u001b[38;5;241;43m=\u001b[39;49m\u001b[43msort\u001b[49m\u001b[43m,\u001b[49m\n\u001b[1;32m    117\u001b[0m \u001b[43m        \u001b[49m\u001b[43msuffixes\u001b[49m\u001b[38;5;241;43m=\u001b[39;49m\u001b[43msuffixes\u001b[49m\u001b[43m,\u001b[49m\n\u001b[1;32m    118\u001b[0m \u001b[43m        \u001b[49m\u001b[43mcopy\u001b[49m\u001b[38;5;241;43m=\u001b[39;49m\u001b[43mcopy\u001b[49m\u001b[43m,\u001b[49m\n\u001b[1;32m    119\u001b[0m \u001b[43m        \u001b[49m\u001b[43mindicator\u001b[49m\u001b[38;5;241;43m=\u001b[39;49m\u001b[43mindicator\u001b[49m\u001b[43m,\u001b[49m\n\u001b[1;32m    120\u001b[0m \u001b[43m        \u001b[49m\u001b[43mvalidate\u001b[49m\u001b[38;5;241;43m=\u001b[39;49m\u001b[43mvalidate\u001b[49m\u001b[43m,\u001b[49m\n\u001b[1;32m    121\u001b[0m \u001b[43m    \u001b[49m\u001b[43m)\u001b[49m\n\u001b[1;32m    122\u001b[0m     \u001b[38;5;28;01mreturn\u001b[39;00m op\u001b[38;5;241m.\u001b[39mget_result()\n",
      "File \u001b[0;32m/opt/miniconda3/envs/torch/lib/python3.8/site-packages/pandas/core/reshape/merge.py:704\u001b[0m, in \u001b[0;36m_MergeOperation.__init__\u001b[0;34m(self, left, right, how, on, left_on, right_on, axis, left_index, right_index, sort, suffixes, copy, indicator, validate)\u001b[0m\n\u001b[1;32m    696\u001b[0m (\n\u001b[1;32m    697\u001b[0m     \u001b[38;5;28mself\u001b[39m\u001b[38;5;241m.\u001b[39mleft_join_keys,\n\u001b[1;32m    698\u001b[0m     \u001b[38;5;28mself\u001b[39m\u001b[38;5;241m.\u001b[39mright_join_keys,\n\u001b[1;32m    699\u001b[0m     \u001b[38;5;28mself\u001b[39m\u001b[38;5;241m.\u001b[39mjoin_names,\n\u001b[1;32m    700\u001b[0m ) \u001b[38;5;241m=\u001b[39m \u001b[38;5;28mself\u001b[39m\u001b[38;5;241m.\u001b[39m_get_merge_keys()\n\u001b[1;32m    702\u001b[0m \u001b[38;5;66;03m# validate the merge keys dtypes. We may need to coerce\u001b[39;00m\n\u001b[1;32m    703\u001b[0m \u001b[38;5;66;03m# to avoid incompatible dtypes\u001b[39;00m\n\u001b[0;32m--> 704\u001b[0m \u001b[38;5;28;43mself\u001b[39;49m\u001b[38;5;241;43m.\u001b[39;49m\u001b[43m_maybe_coerce_merge_keys\u001b[49m\u001b[43m(\u001b[49m\u001b[43m)\u001b[49m\n\u001b[1;32m    706\u001b[0m \u001b[38;5;66;03m# If argument passed to validate,\u001b[39;00m\n\u001b[1;32m    707\u001b[0m \u001b[38;5;66;03m# check if columns specified as unique\u001b[39;00m\n\u001b[1;32m    708\u001b[0m \u001b[38;5;66;03m# are in fact unique.\u001b[39;00m\n\u001b[1;32m    709\u001b[0m \u001b[38;5;28;01mif\u001b[39;00m validate \u001b[38;5;129;01mis\u001b[39;00m \u001b[38;5;129;01mnot\u001b[39;00m \u001b[38;5;28;01mNone\u001b[39;00m:\n",
      "File \u001b[0;32m/opt/miniconda3/envs/torch/lib/python3.8/site-packages/pandas/core/reshape/merge.py:1261\u001b[0m, in \u001b[0;36m_MergeOperation._maybe_coerce_merge_keys\u001b[0;34m(self)\u001b[0m\n\u001b[1;32m   1255\u001b[0m     \u001b[38;5;66;03m# unless we are merging non-string-like with string-like\u001b[39;00m\n\u001b[1;32m   1256\u001b[0m     \u001b[38;5;28;01melif\u001b[39;00m (\n\u001b[1;32m   1257\u001b[0m         inferred_left \u001b[38;5;129;01min\u001b[39;00m string_types \u001b[38;5;129;01mand\u001b[39;00m inferred_right \u001b[38;5;129;01mnot\u001b[39;00m \u001b[38;5;129;01min\u001b[39;00m string_types\n\u001b[1;32m   1258\u001b[0m     ) \u001b[38;5;129;01mor\u001b[39;00m (\n\u001b[1;32m   1259\u001b[0m         inferred_right \u001b[38;5;129;01min\u001b[39;00m string_types \u001b[38;5;129;01mand\u001b[39;00m inferred_left \u001b[38;5;129;01mnot\u001b[39;00m \u001b[38;5;129;01min\u001b[39;00m string_types\n\u001b[1;32m   1260\u001b[0m     ):\n\u001b[0;32m-> 1261\u001b[0m         \u001b[38;5;28;01mraise\u001b[39;00m \u001b[38;5;167;01mValueError\u001b[39;00m(msg)\n\u001b[1;32m   1263\u001b[0m \u001b[38;5;66;03m# datetimelikes must match exactly\u001b[39;00m\n\u001b[1;32m   1264\u001b[0m \u001b[38;5;28;01melif\u001b[39;00m needs_i8_conversion(lk\u001b[38;5;241m.\u001b[39mdtype) \u001b[38;5;129;01mand\u001b[39;00m \u001b[38;5;129;01mnot\u001b[39;00m needs_i8_conversion(rk\u001b[38;5;241m.\u001b[39mdtype):\n",
      "\u001b[0;31mValueError\u001b[0m: You are trying to merge on object and int64 columns. If you wish to proceed you should use pd.concat"
     ]
    }
   ],
   "source": [
    "sync_df.join(concerts_df, how='outer', on='title')"
   ]
  },
  {
   "cell_type": "code",
   "execution_count": 312,
   "id": "aa60f83e-d942-441e-81d1-ef75a965dd60",
   "metadata": {},
   "outputs": [
    {
     "data": {
      "application/vnd.jupyter.widget-view+json": {
       "model_id": "f820286e94b64bdbbe6325be397e2c9f",
       "version_major": 2,
       "version_minor": 0
      },
      "text/plain": [
       "parsing data:   0%|          | 0/3 [00:00<?, ?it/s]"
      ]
     },
     "metadata": {},
     "output_type": "display_data"
    },
    {
     "name": "stdout",
     "output_type": "stream",
     "text": [
      "Finished\n"
     ]
    },
    {
     "data": {
      "text/html": [
       "<div>\n",
       "<style scoped>\n",
       "    .dataframe tbody tr th:only-of-type {\n",
       "        vertical-align: middle;\n",
       "    }\n",
       "\n",
       "    .dataframe tbody tr th {\n",
       "        vertical-align: top;\n",
       "    }\n",
       "\n",
       "    .dataframe thead th {\n",
       "        text-align: right;\n",
       "    }\n",
       "</style>\n",
       "<table border=\"1\" class=\"dataframe\">\n",
       "  <thead>\n",
       "    <tr style=\"text-align: right;\">\n",
       "      <th></th>\n",
       "      <th>title</th>\n",
       "      <th>place</th>\n",
       "      <th>dt</th>\n",
       "      <th>program</th>\n",
       "      <th>russia_tour</th>\n",
       "      <th>international_tour</th>\n",
       "    </tr>\n",
       "  </thead>\n",
       "  <tbody>\n",
       "    <tr>\n",
       "      <th>0</th>\n",
       "      <td>Концерт в Сочи</td>\n",
       "      <td>Россия | Сочи | Большой зал Парка науки и иску...</td>\n",
       "      <td>2022-09-03 19:30:00</td>\n",
       "      <td>[Г. Свиридов | «Метель», музыкальные иллюстрац...</td>\n",
       "      <td>True</td>\n",
       "      <td>False</td>\n",
       "    </tr>\n",
       "    <tr>\n",
       "      <th>1</th>\n",
       "      <td>Концерт в Сочи</td>\n",
       "      <td>Россия | Сочи | Большой зал Парка науки и иску...</td>\n",
       "      <td>2022-09-04 19:30:00</td>\n",
       "      <td>[С. Прокофьев | Сюита из балета «Ромео и Джуль...</td>\n",
       "      <td>True</td>\n",
       "      <td>False</td>\n",
       "    </tr>\n",
       "    <tr>\n",
       "      <th>2</th>\n",
       "      <td>Чайковский. Письма к тебе… Художественное слов...</td>\n",
       "      <td>Концертный зал имени П. И. Чайковского</td>\n",
       "      <td>2022-09-11 14:00:00</td>\n",
       "      <td>[Концерт переносится, Дата будет сообщена допо...</td>\n",
       "      <td>False</td>\n",
       "      <td>False</td>\n",
       "    </tr>\n",
       "  </tbody>\n",
       "</table>\n",
       "</div>"
      ],
      "text/plain": [
       "                                               title  \\\n",
       "0                                     Концерт в Сочи   \n",
       "1                                     Концерт в Сочи   \n",
       "2  Чайковский. Письма к тебе… Художественное слов...   \n",
       "\n",
       "                                               place                  dt  \\\n",
       "0  Россия | Сочи | Большой зал Парка науки и иску... 2022-09-03 19:30:00   \n",
       "1  Россия | Сочи | Большой зал Парка науки и иску... 2022-09-04 19:30:00   \n",
       "2            Концертный зал имени П. И. Чайковского  2022-09-11 14:00:00   \n",
       "\n",
       "                                             program  russia_tour  \\\n",
       "0  [Г. Свиридов | «Метель», музыкальные иллюстрац...         True   \n",
       "1  [С. Прокофьев | Сюита из балета «Ромео и Джуль...         True   \n",
       "2  [Концерт переносится, Дата будет сообщена допо...        False   \n",
       "\n",
       "   international_tour  \n",
       "0               False  \n",
       "1               False  \n",
       "2               False  "
      ]
     },
     "execution_count": 312,
     "metadata": {},
     "output_type": "execute_result"
    }
   ],
   "source": [
    "get_concert_data(concerts_urls, \n",
    "                               home_class=HOME_CONCERT_CLASS, \n",
    "                               tour_class=TOUR_CONCERT_CLASS,\n",
    "                               verbose=False,\n",
    "                               timeout=0.5,\n",
    "                                scan_range=(1,4)\n",
    "                              )"
   ]
  },
  {
   "cell_type": "markdown",
   "id": "65d15557-8c46-4e77-af4e-0543d9721970",
   "metadata": {},
   "source": [
    "# Export to csv "
   ]
  },
  {
   "cell_type": "code",
   "execution_count": 323,
   "id": "c2d09525-3b95-4597-b36a-8e51e43bfc38",
   "metadata": {},
   "outputs": [],
   "source": []
  },
  {
   "cell_type": "markdown",
   "id": "82cebf4a-7f9f-48d8-b536-c4c26d3181bf",
   "metadata": {},
   "source": [
    "# Tests"
   ]
  },
  {
   "cell_type": "code",
   "execution_count": 147,
   "id": "1b1a87be-f279-4c9d-a8ea-e7e797f0295f",
   "metadata": {},
   "outputs": [
    {
     "data": {
      "text/plain": [
       "'29 января | вс'"
      ]
     },
     "execution_count": 147,
     "metadata": {},
     "output_type": "execute_result"
    }
   ],
   "source": [
    "' '.join(['29', 'января', '|', 'вс'])"
   ]
  },
  {
   "cell_type": "code",
   "execution_count": 268,
   "id": "f1e361a1-4e9f-4e1d-9349-14fcd918e6f9",
   "metadata": {},
   "outputs": [
    {
     "data": {
      "text/plain": [
       "<a class=\"\" href=\"/concerts/2022/09/19/\">19 сентября | пн</a>"
      ]
     },
     "execution_count": 268,
     "metadata": {},
     "output_type": "execute_result"
    }
   ],
   "source": [
    "test_req = requests.get(concerts_urls[6])\n",
    "test_soup = BeautifulSoup(test_req.text, 'html.parser')\n",
    "\n",
    "test_soup.find(class_='active').previous.previous.previous.previous"
   ]
  },
  {
   "cell_type": "code",
   "execution_count": 196,
   "id": "429c0a67-f888-4ad8-bb62-1e6ee85e832a",
   "metadata": {},
   "outputs": [
    {
     "data": {
      "text/plain": [
       "<span class=\"place\">\n",
       "          Армения | \n",
       "          Ереван \n",
       "\n",
       "          | Концертный зал имени Арама Хачатуряна          \n",
       "                    \n",
       "          | 19.00</span>"
      ]
     },
     "execution_count": 196,
     "metadata": {},
     "output_type": "execute_result"
    }
   ],
   "source": [
    "test_soup.find(class_='place')"
   ]
  },
  {
   "cell_type": "code",
   "execution_count": 194,
   "id": "2c060a06-ee00-4468-bfc4-30ab20dd8ed0",
   "metadata": {},
   "outputs": [],
   "source": [
    "test_soup.find(class_=HOME_CONCERT_CLASS)"
   ]
  },
  {
   "cell_type": "code",
   "execution_count": 192,
   "id": "11a8320c-7afe-46a5-bb21-8b8803efee88",
   "metadata": {},
   "outputs": [
    {
     "ename": "TypeError",
     "evalue": "'NoneType' object is not iterable",
     "output_type": "error",
     "traceback": [
      "\u001b[0;31m---------------------------------------------------------------------------\u001b[0m",
      "\u001b[0;31mTypeError\u001b[0m                                 Traceback (most recent call last)",
      "Cell \u001b[0;32mIn [192], line 1\u001b[0m\n\u001b[0;32m----> 1\u001b[0m [\u001b[38;5;124m'\u001b[39m\u001b[38;5;124m \u001b[39m\u001b[38;5;124m'\u001b[39m\u001b[38;5;241m.\u001b[39mjoin(txt\u001b[38;5;241m.\u001b[39mtext\u001b[38;5;241m.\u001b[39msplit()) \u001b[38;5;28;01mfor\u001b[39;00m txt \u001b[38;5;129;01min\u001b[39;00m test_soup\u001b[38;5;241m.\u001b[39mfind(class_ \u001b[38;5;241m=\u001b[39m HOME_CONCERT_CLASS)]\n",
      "\u001b[0;31mTypeError\u001b[0m: 'NoneType' object is not iterable"
     ]
    }
   ],
   "source": [
    "\n",
    "[' '.join(txt.text.split()) for txt in test_soup.find(class_ = HOME_CONCERT_CLASS)]"
   ]
  },
  {
   "cell_type": "code",
   "execution_count": 81,
   "id": "d0ed6856-7338-42b2-add0-0513a026418c",
   "metadata": {},
   "outputs": [
    {
     "data": {
      "text/plain": [
       "'2023'"
      ]
     },
     "metadata": {},
     "output_type": "display_data"
    },
    {
     "data": {
      "text/plain": [
       "'января'"
      ]
     },
     "metadata": {},
     "output_type": "display_data"
    },
    {
     "data": {
      "text/plain": [
       "'07'"
      ]
     },
     "metadata": {},
     "output_type": "display_data"
    },
    {
     "data": {
      "text/plain": [
       "'\\n\\nБольшой зал Московской консерватории | \\n19.00'"
      ]
     },
     "metadata": {},
     "output_type": "display_data"
    }
   ],
   "source": [
    "display(year, month, day, hour)"
   ]
  },
  {
   "cell_type": "code",
   "execution_count": null,
   "id": "147f1c41-d069-426a-af9b-a4621060062a",
   "metadata": {},
   "outputs": [],
   "source": [
    "<li class=\"2023010719\"><a class=\"\" href=\"/concerts/2023/01/07/\">07 января | сб</a></li>"
   ]
  }
 ],
 "metadata": {
  "kernelspec": {
   "display_name": "Python 3",
   "language": "python",
   "name": "python3"
  },
  "language_info": {
   "codemirror_mode": {
    "name": "ipython",
    "version": 3
   },
   "file_extension": ".py",
   "mimetype": "text/x-python",
   "name": "python",
   "nbconvert_exporter": "python",
   "pygments_lexer": "ipython3",
   "version": "3.8.15"
  },
  "nbTranslate": {
   "displayLangs": [
    "*"
   ],
   "hotkey": "alt-t",
   "langInMainMenu": true,
   "sourceLang": "en",
   "targetLang": "fr",
   "useGoogleTranslate": true
  },
  "toc": {
   "base_numbering": 1,
   "nav_menu": {},
   "number_sections": false,
   "sideBar": true,
   "skip_h1_title": false,
   "title_cell": "Table of Contents",
   "title_sidebar": "Contents",
   "toc_cell": true,
   "toc_position": {},
   "toc_section_display": true,
   "toc_window_display": true
  },
  "varInspector": {
   "cols": {
    "lenName": 16,
    "lenType": 16,
    "lenVar": 40
   },
   "kernels_config": {
    "python": {
     "delete_cmd_postfix": "",
     "delete_cmd_prefix": "del ",
     "library": "var_list.py",
     "varRefreshCmd": "print(var_dic_list())"
    },
    "r": {
     "delete_cmd_postfix": ") ",
     "delete_cmd_prefix": "rm(",
     "library": "var_list.r",
     "varRefreshCmd": "cat(var_dic_list()) "
    }
   },
   "types_to_exclude": [
    "module",
    "function",
    "builtin_function_or_method",
    "instance",
    "_Feature"
   ],
   "window_display": false
  }
 },
 "nbformat": 4,
 "nbformat_minor": 5
}
